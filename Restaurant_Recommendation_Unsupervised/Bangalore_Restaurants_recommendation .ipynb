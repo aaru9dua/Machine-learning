{
 "cells": [
  {
   "cell_type": "markdown",
   "metadata": {
    "colab_type": "text",
    "id": "qlBY2JlQjsrI"
   },
   "source": [
    "# Bangalore Hotels Dataset"
   ]
  },
  {
   "cell_type": "markdown",
   "metadata": {},
   "source": [
    "# Objective:"
   ]
  },
  {
   "cell_type": "markdown",
   "metadata": {},
   "source": [
    "Restaurants from all over the world can be found here in Bengaluru. From United States to Japan, Russia to Antarctica, you get all type of cuisines here. Delivery, Dine-out, Pubs, Bars, Drinks,Buffet, Desserts you name it and Bengaluru has it. Bengaluru is best place for foodies. The number of restaurant are increasing day by day. Currently which stands at approximately 15,000 restaurants. With such an high number of restaurants. This industry hasn't been saturated yet. And new restaurants are opening every day. However it has become difficult for them to compete with already established restaurants. The key issues that continue to pose a challenge to them include high real estate costs, rising food costs, shortage of quality manpower, fragmented supply chain and over-licensing. This restaurants data aims at analysing demography of the location and favoritism of the Cuisines. Most importantly it will help new restaurants in deciding their theme, menus, cuisine, cost etc for a particular location."
   ]
  },
  {
   "attachments": {
    "restaurants%20in%20bangalore.jpg": {
     "image/jpeg": "[encoded data removed]"
    }
   },
   "cell_type": "markdown",
   "metadata": {
    "colab_type": "text",
    "id": "oCfHJSYHjsrJ"
   },
   "source": [
    "![restaurants%20in%20bangalore.jpg](attachment:restaurants%20in%20bangalore.jpg)"
   ]
  },
  {
   "cell_type": "markdown",
   "metadata": {},
   "source": [
    "## Dataset Description"
   ]
  },
  {
   "cell_type": "markdown",
   "metadata": {},
   "source": [
    "This Dataset contains the information about restaurants in bangalore to which more people/customers are interested in, which cuisines they are more interested in."
   ]
  },
  {
   "cell_type": "markdown",
   "metadata": {
    "colab_type": "text",
    "id": "H74pQGstoLy0"
   },
   "source": [
    "<b>Attributes Information</b>\n",
    "\n",
    "\n",
    " \n",
    "\n",
    "Cuisine - The Type of cuisine Restaurant offers\n",
    "\n",
    "Location - Address of the Restaurant\n",
    "\n",
    "Name -  Names of the Restaurant/Hotel\n",
    "\n",
    "Price -  Price of that particular dish in that Restaurant\n",
    "\n",
    "Ratings - Ratings given by customer to restaurants out of 5\n",
    "\n",
    "Tags - Tags by which restaurants are searched"
   ]
  },
  {
   "cell_type": "markdown",
   "metadata": {
    "colab_type": "text",
    "id": "j1jPGU3vmORb"
   },
   "source": [
    "# 1.Import libraries and dataset"
   ]
  },
  {
   "cell_type": "code",
   "execution_count": 1,
   "metadata": {
    "colab": {
     "base_uri": "https://localhost:8080/",
     "height": 70
    },
    "colab_type": "code",
    "id": "kjK4fS8OZ6jT",
    "outputId": "d8459e9e-f788-4051-d82d-a658dcc707a1"
   },
   "outputs": [],
   "source": [
    "import numpy as np \n",
    "import pandas as pd \n",
    "import matplotlib.pyplot as plt \n",
    "import seaborn as sns"
   ]
  },
  {
   "cell_type": "markdown",
   "metadata": {
    "colab_type": "text",
    "id": "dIdol8HMmgmc"
   },
   "source": [
    "<b> Read the Bangalore Hotels Data"
   ]
  },
  {
   "cell_type": "code",
   "execution_count": 2,
   "metadata": {
    "colab": {},
    "colab_type": "code",
    "id": "rIlXVFm4aLf5"
   },
   "outputs": [],
   "source": [
    "df=pd.read_csv(\"BangaloreHotels.csv\")"
   ]
  },
  {
   "cell_type": "code",
   "execution_count": 3,
   "metadata": {
    "colab": {
     "base_uri": "https://localhost:8080/",
     "height": 196
    },
    "colab_type": "code",
    "id": "1iDv5MqXadw5",
    "outputId": "f50335ce-c84a-40d6-fad1-3a989c2a07a3"
   },
   "outputs": [
    {
     "data": {
      "text/html": [
       "<div>\n",
       "<style scoped>\n",
       "    .dataframe tbody tr th:only-of-type {\n",
       "        vertical-align: middle;\n",
       "    }\n",
       "\n",
       "    .dataframe tbody tr th {\n",
       "        vertical-align: top;\n",
       "    }\n",
       "\n",
       "    .dataframe thead th {\n",
       "        text-align: right;\n",
       "    }\n",
       "</style>\n",
       "<table border=\"1\" class=\"dataframe\">\n",
       "  <thead>\n",
       "    <tr style=\"text-align: right;\">\n",
       "      <th></th>\n",
       "      <th>cuisine</th>\n",
       "      <th>location</th>\n",
       "      <th>name</th>\n",
       "      <th>price</th>\n",
       "      <th>ratings</th>\n",
       "      <th>tags</th>\n",
       "    </tr>\n",
       "  </thead>\n",
       "  <tbody>\n",
       "    <tr>\n",
       "      <th>0</th>\n",
       "      <td>South Indian</td>\n",
       "      <td>1004| 26th Main| 4th T Block| Beside HDFC Ban...</td>\n",
       "      <td>Taaza Thindi</td>\n",
       "      <td>100.0</td>\n",
       "      <td>4.9</td>\n",
       "      <td>Quick Bites</td>\n",
       "    </tr>\n",
       "    <tr>\n",
       "      <th>1</th>\n",
       "      <td>South Indian</td>\n",
       "      <td>Ranga Rao Road| Near Shankar Mutt| Shankarapu...</td>\n",
       "      <td>Brahmin's Coffee Bar</td>\n",
       "      <td>100.0</td>\n",
       "      <td>4.9</td>\n",
       "      <td>Quick Bites</td>\n",
       "    </tr>\n",
       "    <tr>\n",
       "      <th>2</th>\n",
       "      <td>Bakery,Desserts</td>\n",
       "      <td>12th Main| 2nd Block| Rajajinagar| Bangalore</td>\n",
       "      <td>O.G. Variar &amp; Sons</td>\n",
       "      <td>200.0</td>\n",
       "      <td>4.9</td>\n",
       "      <td>Bakery</td>\n",
       "    </tr>\n",
       "    <tr>\n",
       "      <th>3</th>\n",
       "      <td>Italian</td>\n",
       "      <td>960| 12th Main| HAL 2nd Stage| Indiranagar| B...</td>\n",
       "      <td>Chianti</td>\n",
       "      <td>2000.0</td>\n",
       "      <td>4.9</td>\n",
       "      <td>Casual Dining</td>\n",
       "    </tr>\n",
       "    <tr>\n",
       "      <th>4</th>\n",
       "      <td>Desserts</td>\n",
       "      <td>2nd Floor|  Phoenix Market City| Whitefield| ...</td>\n",
       "      <td>BelgYum</td>\n",
       "      <td>400.0</td>\n",
       "      <td>4.9</td>\n",
       "      <td>Dessert Parlor</td>\n",
       "    </tr>\n",
       "    <tr>\n",
       "      <th>5</th>\n",
       "      <td>American,Continental,Fast Food</td>\n",
       "      <td>4 &amp; 16| St. Marks Road| Bangalore</td>\n",
       "      <td>Hard Rock Cafe</td>\n",
       "      <td>2500.0</td>\n",
       "      <td>4.8</td>\n",
       "      <td>Pub,Casual Dining</td>\n",
       "    </tr>\n",
       "    <tr>\n",
       "      <th>6</th>\n",
       "      <td>North Indian,BBQ</td>\n",
       "      <td>100 Feet Road| 1st Phase| Near Jayadeva Flyov...</td>\n",
       "      <td>AB's - Absolute Barbecues</td>\n",
       "      <td>1250.0</td>\n",
       "      <td>4.8</td>\n",
       "      <td>Casual Dining</td>\n",
       "    </tr>\n",
       "    <tr>\n",
       "      <th>7</th>\n",
       "      <td>Continental,North Indian,Chinese,Finger Food,A...</td>\n",
       "      <td>4th B Cross| Koramangala 5th Block| Bangalore</td>\n",
       "      <td>Biergarten</td>\n",
       "      <td>2600.0</td>\n",
       "      <td>4.8</td>\n",
       "      <td>Microbrewery</td>\n",
       "    </tr>\n",
       "    <tr>\n",
       "      <th>8</th>\n",
       "      <td>South Indian</td>\n",
       "      <td>13| AB Square|14th Main| Sector 5| HSR| Banga...</td>\n",
       "      <td>Arogya Ahaara</td>\n",
       "      <td>100.0</td>\n",
       "      <td>4.8</td>\n",
       "      <td>Quick Bites</td>\n",
       "    </tr>\n",
       "    <tr>\n",
       "      <th>9</th>\n",
       "      <td>Paan</td>\n",
       "      <td>1/1| Chakravarthy Iyengar Layout| 2nd Main| K...</td>\n",
       "      <td>The Betel Leaf Co</td>\n",
       "      <td>300.0</td>\n",
       "      <td>4.8</td>\n",
       "      <td>Paan Shop</td>\n",
       "    </tr>\n",
       "  </tbody>\n",
       "</table>\n",
       "</div>"
      ],
      "text/plain": [
       "                                             cuisine  \\\n",
       "0                                       South Indian   \n",
       "1                                       South Indian   \n",
       "2                                    Bakery,Desserts   \n",
       "3                                            Italian   \n",
       "4                                           Desserts   \n",
       "5                     American,Continental,Fast Food   \n",
       "6                                   North Indian,BBQ   \n",
       "7  Continental,North Indian,Chinese,Finger Food,A...   \n",
       "8                                       South Indian   \n",
       "9                                               Paan   \n",
       "\n",
       "                                            location  \\\n",
       "0   1004| 26th Main| 4th T Block| Beside HDFC Ban...   \n",
       "1   Ranga Rao Road| Near Shankar Mutt| Shankarapu...   \n",
       "2       12th Main| 2nd Block| Rajajinagar| Bangalore   \n",
       "3   960| 12th Main| HAL 2nd Stage| Indiranagar| B...   \n",
       "4   2nd Floor|  Phoenix Market City| Whitefield| ...   \n",
       "5                  4 & 16| St. Marks Road| Bangalore   \n",
       "6   100 Feet Road| 1st Phase| Near Jayadeva Flyov...   \n",
       "7      4th B Cross| Koramangala 5th Block| Bangalore   \n",
       "8   13| AB Square|14th Main| Sector 5| HSR| Banga...   \n",
       "9   1/1| Chakravarthy Iyengar Layout| 2nd Main| K...   \n",
       "\n",
       "                        name   price ratings               tags  \n",
       "0               Taaza Thindi   100.0     4.9        Quick Bites  \n",
       "1       Brahmin's Coffee Bar   100.0     4.9        Quick Bites  \n",
       "2         O.G. Variar & Sons   200.0     4.9             Bakery  \n",
       "3                    Chianti  2000.0     4.9      Casual Dining  \n",
       "4                    BelgYum   400.0     4.9     Dessert Parlor  \n",
       "5             Hard Rock Cafe  2500.0     4.8  Pub,Casual Dining  \n",
       "6  AB's - Absolute Barbecues  1250.0     4.8      Casual Dining  \n",
       "7                 Biergarten  2600.0     4.8       Microbrewery  \n",
       "8              Arogya Ahaara   100.0     4.8        Quick Bites  \n",
       "9          The Betel Leaf Co   300.0     4.8          Paan Shop  "
      ]
     },
     "execution_count": 3,
     "metadata": {},
     "output_type": "execute_result"
    }
   ],
   "source": [
    "df.head(10)"
   ]
  },
  {
   "cell_type": "code",
   "execution_count": 4,
   "metadata": {
    "colab": {
     "base_uri": "https://localhost:8080/",
     "height": 33
    },
    "colab_type": "code",
    "id": "Bf_V3gOrai0A",
    "outputId": "17391d8a-5179-4c0a-9a7d-de2730122d25"
   },
   "outputs": [
    {
     "data": {
      "text/plain": [
       "(15023, 6)"
      ]
     },
     "execution_count": 4,
     "metadata": {},
     "output_type": "execute_result"
    }
   ],
   "source": [
    "df.shape"
   ]
  },
  {
   "cell_type": "code",
   "execution_count": 5,
   "metadata": {
    "colab": {
     "base_uri": "https://localhost:8080/",
     "height": 234
    },
    "colab_type": "code",
    "id": "8Uxk_7Uqkd6r",
    "outputId": "de31ec98-b4be-4a92-a4ab-dd2272185dcb"
   },
   "outputs": [
    {
     "name": "stdout",
     "output_type": "stream",
     "text": [
      "<class 'pandas.core.frame.DataFrame'>\n",
      "RangeIndex: 15023 entries, 0 to 15022\n",
      "Data columns (total 6 columns):\n",
      " #   Column    Non-Null Count  Dtype \n",
      "---  ------    --------------  ----- \n",
      " 0   cuisine   15023 non-null  object\n",
      " 1   location  15023 non-null  object\n",
      " 2   name      15023 non-null  object\n",
      " 3   price     15023 non-null  object\n",
      " 4   ratings   15023 non-null  object\n",
      " 5   tags      12017 non-null  object\n",
      "dtypes: object(6)\n",
      "memory usage: 704.3+ KB\n"
     ]
    }
   ],
   "source": [
    "df.info()"
   ]
  },
  {
   "cell_type": "markdown",
   "metadata": {},
   "source": [
    "<b>The dataset has 15023 rows and 6 column.<br>\n",
    "Dataset has null values, all the datatypes are object.<br>\n"
   ]
  },
  {
   "cell_type": "markdown",
   "metadata": {
    "colab_type": "text",
    "id": "Vuqa3lxonbka"
   },
   "source": [
    "# 2.Data Cleaning and Preprocessing "
   ]
  },
  {
   "cell_type": "markdown",
   "metadata": {},
   "source": [
    "<b> 2.1 Removing the unknown string values from price <b>"
   ]
  },
  {
   "cell_type": "code",
   "execution_count": 6,
   "metadata": {
    "colab": {
     "base_uri": "https://localhost:8080/",
     "height": 256
    },
    "colab_type": "code",
    "id": "0GXPzZtVngKA",
    "outputId": "0e9be7b5-4717-40d6-e61c-d561d82d1732"
   },
   "outputs": [
    {
     "data": {
      "text/html": [
       "<div>\n",
       "<style scoped>\n",
       "    .dataframe tbody tr th:only-of-type {\n",
       "        vertical-align: middle;\n",
       "    }\n",
       "\n",
       "    .dataframe tbody tr th {\n",
       "        vertical-align: top;\n",
       "    }\n",
       "\n",
       "    .dataframe thead th {\n",
       "        text-align: right;\n",
       "    }\n",
       "</style>\n",
       "<table border=\"1\" class=\"dataframe\">\n",
       "  <thead>\n",
       "    <tr style=\"text-align: right;\">\n",
       "      <th></th>\n",
       "      <th>cuisine</th>\n",
       "      <th>location</th>\n",
       "      <th>name</th>\n",
       "      <th>price</th>\n",
       "      <th>ratings</th>\n",
       "      <th>tags</th>\n",
       "    </tr>\n",
       "  </thead>\n",
       "  <tbody>\n",
       "    <tr>\n",
       "      <th>14789</th>\n",
       "      <td>Modern Indian</td>\n",
       "      <td>140 nallurahalli colony 4th cross  govindaraj...</td>\n",
       "      <td>Desi food zone</td>\n",
       "      <td>&lt;bound method Series.mean of 1         100\\n2 ...</td>\n",
       "      <td>3.9</td>\n",
       "      <td>NaN</td>\n",
       "    </tr>\n",
       "    <tr>\n",
       "      <th>14926</th>\n",
       "      <td>American,Fast Food</td>\n",
       "      <td>Delivery Only</td>\n",
       "      <td>Cafesta</td>\n",
       "      <td>&lt;bound method Series.mean of 1         100\\n2 ...</td>\n",
       "      <td>3.9</td>\n",
       "      <td>NaN</td>\n",
       "    </tr>\n",
       "    <tr>\n",
       "      <th>14927</th>\n",
       "      <td>Ice Cream,Desserts</td>\n",
       "      <td>Delivery Only</td>\n",
       "      <td>Kreme Delight</td>\n",
       "      <td>&lt;bound method Series.mean of 1         100\\n2 ...</td>\n",
       "      <td>3.9</td>\n",
       "      <td>NaN</td>\n",
       "    </tr>\n",
       "    <tr>\n",
       "      <th>14928</th>\n",
       "      <td>American,Fast Food</td>\n",
       "      <td>Delivery Only</td>\n",
       "      <td>Cafesta</td>\n",
       "      <td>&lt;bound method Series.mean of 1         100\\n2 ...</td>\n",
       "      <td>3.9</td>\n",
       "      <td>NaN</td>\n",
       "    </tr>\n",
       "    <tr>\n",
       "      <th>14929</th>\n",
       "      <td>Ice Cream,Desserts</td>\n",
       "      <td>Delivery Only</td>\n",
       "      <td>Kreme Delight</td>\n",
       "      <td>&lt;bound method Series.mean of 1         100\\n2 ...</td>\n",
       "      <td>3.9</td>\n",
       "      <td>NaN</td>\n",
       "    </tr>\n",
       "    <tr>\n",
       "      <th>14933</th>\n",
       "      <td>Momos,Chinese</td>\n",
       "      <td>Delivery Only</td>\n",
       "      <td>Mast Momos</td>\n",
       "      <td>&lt;bound method Series.mean of 1         100\\n2 ...</td>\n",
       "      <td>3.9</td>\n",
       "      <td>NaN</td>\n",
       "    </tr>\n",
       "    <tr>\n",
       "      <th>14990</th>\n",
       "      <td>North Indian</td>\n",
       "      <td>Delivery Only</td>\n",
       "      <td>Royal Spice</td>\n",
       "      <td>&lt;bound method Series.mean of 1         100\\n2 ...</td>\n",
       "      <td>3.9</td>\n",
       "      <td>NaN</td>\n",
       "    </tr>\n",
       "  </tbody>\n",
       "</table>\n",
       "</div>"
      ],
      "text/plain": [
       "                  cuisine                                           location  \\\n",
       "14789       Modern Indian   140 nallurahalli colony 4th cross  govindaraj...   \n",
       "14926  American,Fast Food                                      Delivery Only   \n",
       "14927  Ice Cream,Desserts                                      Delivery Only   \n",
       "14928  American,Fast Food                                      Delivery Only   \n",
       "14929  Ice Cream,Desserts                                      Delivery Only   \n",
       "14933       Momos,Chinese                                      Delivery Only   \n",
       "14990        North Indian                                      Delivery Only   \n",
       "\n",
       "                 name                                              price  \\\n",
       "14789  Desi food zone  <bound method Series.mean of 1         100\\n2 ...   \n",
       "14926         Cafesta  <bound method Series.mean of 1         100\\n2 ...   \n",
       "14927   Kreme Delight  <bound method Series.mean of 1         100\\n2 ...   \n",
       "14928         Cafesta  <bound method Series.mean of 1         100\\n2 ...   \n",
       "14929   Kreme Delight  <bound method Series.mean of 1         100\\n2 ...   \n",
       "14933      Mast Momos  <bound method Series.mean of 1         100\\n2 ...   \n",
       "14990     Royal Spice  <bound method Series.mean of 1         100\\n2 ...   \n",
       "\n",
       "      ratings tags  \n",
       "14789     3.9  NaN  \n",
       "14926     3.9  NaN  \n",
       "14927     3.9  NaN  \n",
       "14928     3.9  NaN  \n",
       "14929     3.9  NaN  \n",
       "14933     3.9  NaN  \n",
       "14990     3.9  NaN  "
      ]
     },
     "execution_count": 6,
     "metadata": {},
     "output_type": "execute_result"
    }
   ],
   "source": [
    "df[df.price.str.contains(\"\\n\")]"
   ]
  },
  {
   "cell_type": "code",
   "execution_count": 7,
   "metadata": {
    "colab": {},
    "colab_type": "code",
    "id": "M_hCJJyvn0Am"
   },
   "outputs": [],
   "source": [
    "sample = df.price.str.replace(\"<bound method Series.mean of 1 100\\n2 ...\", 'NA')"
   ]
  },
  {
   "cell_type": "code",
   "execution_count": 8,
   "metadata": {
    "colab": {},
    "colab_type": "code",
    "id": "7FJRhKk-n3X0"
   },
   "outputs": [],
   "source": [
    "sample.iloc[sample[sample.str.contains(\"\\n\")].index] = np.nan"
   ]
  },
  {
   "cell_type": "code",
   "execution_count": 9,
   "metadata": {
    "colab": {},
    "colab_type": "code",
    "id": "gigU30KCn-Si"
   },
   "outputs": [],
   "source": [
    "df.price = sample.astype(float)"
   ]
  },
  {
   "cell_type": "code",
   "execution_count": 10,
   "metadata": {
    "colab": {},
    "colab_type": "code",
    "id": "p1xkBhlboZaj"
   },
   "outputs": [],
   "source": [
    "df.ratings = df.ratings.str[:3]\n",
    "df.ratings = df.ratings.astype(float)"
   ]
  },
  {
   "cell_type": "markdown",
   "metadata": {},
   "source": [
    "<b> 2.2 Dealing with types <b>"
   ]
  },
  {
   "cell_type": "code",
   "execution_count": 11,
   "metadata": {
    "colab": {
     "base_uri": "https://localhost:8080/",
     "height": 134
    },
    "colab_type": "code",
    "id": "rOwBMn19otET",
    "outputId": "72f530ae-7d82-47ea-b9d3-a66e9303048a"
   },
   "outputs": [
    {
     "data": {
      "text/plain": [
       "cuisine      object\n",
       "location     object\n",
       "name         object\n",
       "price       float64\n",
       "ratings     float64\n",
       "tags         object\n",
       "dtype: object"
      ]
     },
     "execution_count": 11,
     "metadata": {},
     "output_type": "execute_result"
    }
   ],
   "source": [
    "df.dtypes"
   ]
  },
  {
   "cell_type": "code",
   "execution_count": 12,
   "metadata": {
    "colab": {
     "base_uri": "https://localhost:8080/",
     "height": 196
    },
    "colab_type": "code",
    "id": "23nQ0ge9ow_Y",
    "outputId": "e94affc2-663d-4131-ffa0-22baed979e1f"
   },
   "outputs": [
    {
     "data": {
      "text/html": [
       "<div>\n",
       "<style scoped>\n",
       "    .dataframe tbody tr th:only-of-type {\n",
       "        vertical-align: middle;\n",
       "    }\n",
       "\n",
       "    .dataframe tbody tr th {\n",
       "        vertical-align: top;\n",
       "    }\n",
       "\n",
       "    .dataframe thead th {\n",
       "        text-align: right;\n",
       "    }\n",
       "</style>\n",
       "<table border=\"1\" class=\"dataframe\">\n",
       "  <thead>\n",
       "    <tr style=\"text-align: right;\">\n",
       "      <th></th>\n",
       "      <th>cuisine</th>\n",
       "      <th>location</th>\n",
       "      <th>name</th>\n",
       "      <th>price</th>\n",
       "      <th>ratings</th>\n",
       "      <th>tags</th>\n",
       "    </tr>\n",
       "  </thead>\n",
       "  <tbody>\n",
       "    <tr>\n",
       "      <th>0</th>\n",
       "      <td>South Indian</td>\n",
       "      <td>1004| 26th Main| 4th T Block| Beside HDFC Ban...</td>\n",
       "      <td>Taaza Thindi</td>\n",
       "      <td>100.0</td>\n",
       "      <td>4.9</td>\n",
       "      <td>Quick Bites</td>\n",
       "    </tr>\n",
       "    <tr>\n",
       "      <th>1</th>\n",
       "      <td>South Indian</td>\n",
       "      <td>Ranga Rao Road| Near Shankar Mutt| Shankarapu...</td>\n",
       "      <td>Brahmin's Coffee Bar</td>\n",
       "      <td>100.0</td>\n",
       "      <td>4.9</td>\n",
       "      <td>Quick Bites</td>\n",
       "    </tr>\n",
       "    <tr>\n",
       "      <th>2</th>\n",
       "      <td>Bakery,Desserts</td>\n",
       "      <td>12th Main| 2nd Block| Rajajinagar| Bangalore</td>\n",
       "      <td>O.G. Variar &amp; Sons</td>\n",
       "      <td>200.0</td>\n",
       "      <td>4.9</td>\n",
       "      <td>Bakery</td>\n",
       "    </tr>\n",
       "    <tr>\n",
       "      <th>3</th>\n",
       "      <td>Italian</td>\n",
       "      <td>960| 12th Main| HAL 2nd Stage| Indiranagar| B...</td>\n",
       "      <td>Chianti</td>\n",
       "      <td>2000.0</td>\n",
       "      <td>4.9</td>\n",
       "      <td>Casual Dining</td>\n",
       "    </tr>\n",
       "    <tr>\n",
       "      <th>4</th>\n",
       "      <td>Desserts</td>\n",
       "      <td>2nd Floor|  Phoenix Market City| Whitefield| ...</td>\n",
       "      <td>BelgYum</td>\n",
       "      <td>400.0</td>\n",
       "      <td>4.9</td>\n",
       "      <td>Dessert Parlor</td>\n",
       "    </tr>\n",
       "  </tbody>\n",
       "</table>\n",
       "</div>"
      ],
      "text/plain": [
       "           cuisine                                           location  \\\n",
       "0     South Indian   1004| 26th Main| 4th T Block| Beside HDFC Ban...   \n",
       "1     South Indian   Ranga Rao Road| Near Shankar Mutt| Shankarapu...   \n",
       "2  Bakery,Desserts       12th Main| 2nd Block| Rajajinagar| Bangalore   \n",
       "3          Italian   960| 12th Main| HAL 2nd Stage| Indiranagar| B...   \n",
       "4         Desserts   2nd Floor|  Phoenix Market City| Whitefield| ...   \n",
       "\n",
       "                   name   price  ratings            tags  \n",
       "0          Taaza Thindi   100.0      4.9     Quick Bites  \n",
       "1  Brahmin's Coffee Bar   100.0      4.9     Quick Bites  \n",
       "2    O.G. Variar & Sons   200.0      4.9          Bakery  \n",
       "3               Chianti  2000.0      4.9   Casual Dining  \n",
       "4               BelgYum   400.0      4.9  Dessert Parlor  "
      ]
     },
     "execution_count": 12,
     "metadata": {},
     "output_type": "execute_result"
    }
   ],
   "source": [
    "df.head()"
   ]
  },
  {
   "cell_type": "code",
   "execution_count": 13,
   "metadata": {
    "colab": {
     "base_uri": "https://localhost:8080/",
     "height": 33
    },
    "colab_type": "code",
    "id": "EJWhe924klNS",
    "outputId": "0e5edbbf-a3f4-4b23-8606-d0b889b73ffc"
   },
   "outputs": [
    {
     "data": {
      "text/plain": [
       "3292"
      ]
     },
     "execution_count": 13,
     "metadata": {},
     "output_type": "execute_result"
    }
   ],
   "source": [
    "df.cuisine.nunique ()"
   ]
  },
  {
   "cell_type": "code",
   "execution_count": 14,
   "metadata": {
    "colab": {
     "base_uri": "https://localhost:8080/",
     "height": 286
    },
    "colab_type": "code",
    "id": "mdJ5jCZ7arES",
    "outputId": "4058648f-f1ee-431d-efc8-6ba175e50b85"
   },
   "outputs": [
    {
     "data": {
      "text/html": [
       "<div>\n",
       "<style scoped>\n",
       "    .dataframe tbody tr th:only-of-type {\n",
       "        vertical-align: middle;\n",
       "    }\n",
       "\n",
       "    .dataframe tbody tr th {\n",
       "        vertical-align: top;\n",
       "    }\n",
       "\n",
       "    .dataframe thead th {\n",
       "        text-align: right;\n",
       "    }\n",
       "</style>\n",
       "<table border=\"1\" class=\"dataframe\">\n",
       "  <thead>\n",
       "    <tr style=\"text-align: right;\">\n",
       "      <th></th>\n",
       "      <th>price</th>\n",
       "      <th>ratings</th>\n",
       "    </tr>\n",
       "  </thead>\n",
       "  <tbody>\n",
       "    <tr>\n",
       "      <th>count</th>\n",
       "      <td>15016.000000</td>\n",
       "      <td>15023.000000</td>\n",
       "    </tr>\n",
       "    <tr>\n",
       "      <th>mean</th>\n",
       "      <td>416.290290</td>\n",
       "      <td>3.690082</td>\n",
       "    </tr>\n",
       "    <tr>\n",
       "      <th>std</th>\n",
       "      <td>352.465204</td>\n",
       "      <td>0.386081</td>\n",
       "    </tr>\n",
       "    <tr>\n",
       "      <th>min</th>\n",
       "      <td>25.000000</td>\n",
       "      <td>2.000000</td>\n",
       "    </tr>\n",
       "    <tr>\n",
       "      <th>25%</th>\n",
       "      <td>200.000000</td>\n",
       "      <td>3.500000</td>\n",
       "    </tr>\n",
       "    <tr>\n",
       "      <th>50%</th>\n",
       "      <td>300.000000</td>\n",
       "      <td>3.900000</td>\n",
       "    </tr>\n",
       "    <tr>\n",
       "      <th>75%</th>\n",
       "      <td>500.000000</td>\n",
       "      <td>3.900000</td>\n",
       "    </tr>\n",
       "    <tr>\n",
       "      <th>max</th>\n",
       "      <td>6000.000000</td>\n",
       "      <td>4.900000</td>\n",
       "    </tr>\n",
       "  </tbody>\n",
       "</table>\n",
       "</div>"
      ],
      "text/plain": [
       "              price       ratings\n",
       "count  15016.000000  15023.000000\n",
       "mean     416.290290      3.690082\n",
       "std      352.465204      0.386081\n",
       "min       25.000000      2.000000\n",
       "25%      200.000000      3.500000\n",
       "50%      300.000000      3.900000\n",
       "75%      500.000000      3.900000\n",
       "max     6000.000000      4.900000"
      ]
     },
     "execution_count": 14,
     "metadata": {},
     "output_type": "execute_result"
    }
   ],
   "source": [
    "df.describe()"
   ]
  },
  {
   "cell_type": "markdown",
   "metadata": {
    "colab_type": "text",
    "id": "oiZ6-Y4hpMOb"
   },
   "source": [
    "<b>2.3 Dealing with Missing value<b>"
   ]
  },
  {
   "cell_type": "code",
   "execution_count": 15,
   "metadata": {
    "colab": {
     "base_uri": "https://localhost:8080/",
     "height": 134
    },
    "colab_type": "code",
    "id": "5wVivGaOamXZ",
    "outputId": "b243440b-30d4-4396-9142-875fbee3d2d3"
   },
   "outputs": [
    {
     "data": {
      "text/plain": [
       "cuisine        0\n",
       "location       0\n",
       "name           0\n",
       "price          7\n",
       "ratings        0\n",
       "tags        3006\n",
       "dtype: int64"
      ]
     },
     "execution_count": 15,
     "metadata": {},
     "output_type": "execute_result"
    }
   ],
   "source": [
    "df.isnull().sum()"
   ]
  },
  {
   "cell_type": "code",
   "execution_count": 16,
   "metadata": {
    "colab": {},
    "colab_type": "code",
    "id": "fhX2wVvma_KL"
   },
   "outputs": [],
   "source": [
    "df=df.dropna()"
   ]
  },
  {
   "cell_type": "code",
   "execution_count": 17,
   "metadata": {
    "colab": {
     "base_uri": "https://localhost:8080/",
     "height": 281
    },
    "colab_type": "code",
    "id": "EFvXi5Qzpsoi",
    "outputId": "44b49db1-1602-4c9c-97c0-2c42bcb01243"
   },
   "outputs": [
    {
     "data": {
      "text/plain": [
       "<matplotlib.axes._subplots.AxesSubplot at 0x19d3094f6d0>"
      ]
     },
     "execution_count": 17,
     "metadata": {},
     "output_type": "execute_result"
    },
    {
     "data": {
      "image/png": "[encoded data removed]",
      "text/plain": [
       "<Figure size 432x288 with 1 Axes>"
      ]
     },
     "metadata": {
      "needs_background": "light"
     },
     "output_type": "display_data"
    }
   ],
   "source": [
    "sns.heatmap(df.isnull(),yticklabels=False,cbar=False,cmap='viridis')"
   ]
  },
  {
   "cell_type": "markdown",
   "metadata": {
    "colab_type": "text",
    "id": "v-xXgg-Gjssx"
   },
   "source": [
    "The dataset has been cleaned and preprocessed"
   ]
  },
  {
   "cell_type": "markdown",
   "metadata": {
    "colab_type": "text",
    "id": "ESQGPQbKpwp4"
   },
   "source": [
    "# 3.EDA"
   ]
  },
  {
   "cell_type": "markdown",
   "metadata": {},
   "source": [
    "<b> 3.1 Most visited place to eat <b>"
   ]
  },
  {
   "cell_type": "code",
   "execution_count": 18,
   "metadata": {
    "colab": {
     "base_uri": "https://localhost:8080/",
     "height": 217
    },
    "colab_type": "code",
    "id": "CNJKMFuhbal5",
    "outputId": "48cc89fc-0d23-4e17-f2cc-606e7a7a6434"
   },
   "outputs": [
    {
     "data": {
      "text/plain": [
       "Kolkata Famous Kati Roll         21\n",
       "Ambur Dum Biryani                14\n",
       "Bangarpet Chats                  13\n",
       "Sri Krishna Sagar                12\n",
       "Sri Ganesh Fruit Juice Centre    11\n",
       "                                 ..\n",
       "Natural Kulfi & Ice Creams        1\n",
       "Amazing Kati Roll's               1\n",
       "Kudla - Coraltree                 1\n",
       "The Republican                    1\n",
       "Fruit & Chai                      1\n",
       "Name: name, Length: 9668, dtype: int64"
      ]
     },
     "execution_count": 18,
     "metadata": {},
     "output_type": "execute_result"
    }
   ],
   "source": [
    "df.name.value_counts()"
   ]
  },
  {
   "cell_type": "code",
   "execution_count": 19,
   "metadata": {
    "colab": {
     "base_uri": "https://localhost:8080/",
     "height": 558
    },
    "colab_type": "code",
    "id": "sJYTKUkMcdy3",
    "outputId": "fad29743-6652-40e2-b81e-25e266e7d1aa"
   },
   "outputs": [
    {
     "data": {
      "text/plain": [
       "Text(0.5, 1.0, 'Name vs Number of Restaurant')"
      ]
     },
     "execution_count": 19,
     "metadata": {},
     "output_type": "execute_result"
    },
    {
     "data": {
      "image/png": "[encoded data removed]",
      "text/plain": [
       "<Figure size 864x432 with 1 Axes>"
      ]
     },
     "metadata": {
      "needs_background": "light"
     },
     "output_type": "display_data"
    }
   ],
   "source": [
    "plt.figure(figsize = (12,6))\n",
    "ax = df.name.value_counts()[:20].plot(kind = 'bar')\n",
    "ax.legend(['* Restaurants'])\n",
    "plt.xlabel(\"Name of Restaurant\")\n",
    "plt.ylabel(\"Count of Restaurants\")\n",
    "plt.title(\"Name vs Number of Restaurant\",fontsize =20, weight = 'bold')"
   ]
  },
  {
   "cell_type": "markdown",
   "metadata": {
    "colab_type": "text",
    "id": "Qwtl81PrcxaA"
   },
   "source": [
    "<b>Kolkata Famous kati roll</b> has more number of Restaurants."
   ]
  },
  {
   "cell_type": "markdown",
   "metadata": {
    "colab_type": "text",
    "id": "ULSrA2vgjstA"
   },
   "source": [
    "<b>#Top 5 cuisine"
   ]
  },
  {
   "cell_type": "code",
   "execution_count": 20,
   "metadata": {
    "colab": {
     "base_uri": "https://localhost:8080/",
     "height": 70
    },
    "colab_type": "code",
    "id": "moX2-kAvjstB",
    "outputId": "086857f6-ffa6-4af8-e7c1-602b58f9b62c"
   },
   "outputs": [
    {
     "name": "stderr",
     "output_type": "stream",
     "text": [
      "<ipython-input-20-d101ba19dfd9>:2: UserWarning: Pandas doesn't allow columns to be created via a new attribute name - see https://pandas.pydata.org/pandas-docs/stable/indexing.html#attribute-access\n",
      "  cuisines_data.cuisines = cuisines_data.cuisine.apply(lambda x:x.lower().strip())\n"
     ]
    }
   ],
   "source": [
    "cuisines_data = df[df.cuisine.notnull()]\n",
    "cuisines_data.cuisines = cuisines_data.cuisine.apply(lambda x:x.lower().strip())"
   ]
  },
  {
   "cell_type": "code",
   "execution_count": 21,
   "metadata": {
    "colab": {},
    "colab_type": "code",
    "id": "SQ1yDKnajstF"
   },
   "outputs": [],
   "source": [
    "cuisines_count= []\n",
    "for i in cuisines_data.cuisines:\n",
    "    for j in i.split(','):\n",
    "        j = j.strip()\n",
    "        cuisines_count.append(j)"
   ]
  },
  {
   "cell_type": "code",
   "execution_count": 22,
   "metadata": {
    "colab": {
     "base_uri": "https://localhost:8080/",
     "height": 473
    },
    "colab_type": "code",
    "id": "2omBs1pqjstI",
    "outputId": "18b92d35-e221-443f-ae6c-4c3d778ebb9f"
   },
   "outputs": [
    {
     "data": {
      "text/plain": [
       "Text(0, 0.5, 'No of restaurants')"
      ]
     },
     "execution_count": 22,
     "metadata": {},
     "output_type": "execute_result"
    },
    {
     "data": {
      "image/png": "[encoded data removed]",
      "text/plain": [
       "<Figure size 864x432 with 1 Axes>"
      ]
     },
     "metadata": {
      "needs_background": "light"
     },
     "output_type": "display_data"
    }
   ],
   "source": [
    "plt.figure(figsize=(12,6))\n",
    "pd.Series(cuisines_count).value_counts()[:10].plot(kind='bar',color= 'blue')\n",
    "plt.title('Top 10 cuisines in Bangalore',weight='bold')\n",
    "plt.xlabel('cuisines type')\n",
    "plt.ylabel('No of restaurants')"
   ]
  },
  {
   "cell_type": "markdown",
   "metadata": {
    "colab_type": "text",
    "id": "dsb2P0Y6jstM"
   },
   "source": [
    "<b>North Indian</b> is the most preferred cuisine in Banglore"
   ]
  },
  {
   "cell_type": "markdown",
   "metadata": {},
   "source": [
    "<b> Top rated Restaurants</b> in Banglaore"
   ]
  },
  {
   "cell_type": "code",
   "execution_count": 23,
   "metadata": {
    "colab": {},
    "colab_type": "code",
    "id": "hB14QqGS2R-Z"
   },
   "outputs": [],
   "source": [
    "ratings_view = df.ratings.value_counts().reset_index().sort_values(by= \"index\", ascending = False)"
   ]
  },
  {
   "cell_type": "code",
   "execution_count": 24,
   "metadata": {
    "colab": {
     "base_uri": "https://localhost:8080/",
     "height": 415
    },
    "colab_type": "code",
    "id": "9ID1D0gr2R-b",
    "outputId": "6737323e-30bd-42e4-aefc-2b6e2b7b86ff"
   },
   "outputs": [
    {
     "data": {
      "image/png": "[encoded data removed]",
      "text/plain": [
       "<Figure size 1080x432 with 1 Axes>"
      ]
     },
     "metadata": {},
     "output_type": "display_data"
    }
   ],
   "source": [
    "sns.set()\n",
    "plt.figure(figsize = (15,6))\n",
    "plt.title(\"Distribution of the rating for resto in banglore\", fontdict={'fontsize':20})\n",
    "sns.barplot(x=ratings_view[\"index\"], y = ratings_view[\"ratings\"], palette=\"inferno\")\n",
    "plt.show()"
   ]
  },
  {
   "cell_type": "markdown",
   "metadata": {
    "colab_type": "text",
    "id": "KMtgKxSI2R-e"
   },
   "source": [
    "As we can clearly see, the most of the resto bears the ratings of the 3.5 to 4.0. The Most occuring one is 3.9 this denotes that the all the resto delivers the good food and gives the proper customer service in order to serve the customers"
   ]
  },
  {
   "cell_type": "markdown",
   "metadata": {
    "colab_type": "text",
    "id": "bZgcGifcvf51"
   },
   "source": [
    "# 4.Association Rule "
   ]
  },
  {
   "cell_type": "markdown",
   "metadata": {},
   "source": [
    "Training association rule models (Apriori and ECLAT) to find the most similar cuisines eaten in bangalore."
   ]
  },
  {
   "cell_type": "markdown",
   "metadata": {},
   "source": [
    "## 4.1Apriori"
   ]
  },
  {
   "cell_type": "markdown",
   "metadata": {},
   "source": [
    "Apriori algorithm uses frequent itemsets to generate association rules.Frequent Itemset is an itemset whose support value is greater than a threshold value(support)."
   ]
  },
  {
   "cell_type": "code",
   "execution_count": 25,
   "metadata": {
    "colab": {
     "base_uri": "https://localhost:8080/",
     "height": 218
    },
    "colab_type": "code",
    "id": "Q0NPIkWTvL9d",
    "outputId": "18048072-b677-49e0-a62a-280c65576452"
   },
   "outputs": [
    {
     "data": {
      "text/plain": [
       "0                                  South Indian\n",
       "1                                  South Indian\n",
       "2                               Bakery,Desserts\n",
       "3                                       Italian\n",
       "4                                      Desserts\n",
       "                          ...                  \n",
       "15012    Chinese,North Indian,Fast Food,Biryani\n",
       "15013              Ice Cream,Desserts,Beverages\n",
       "15020                              North Indian\n",
       "15021                      North Indian,Chinese\n",
       "15022    Beverages,Juices,Sandwich,Healthy Food\n",
       "Name: cuisine, Length: 12017, dtype: object"
      ]
     },
     "execution_count": 25,
     "metadata": {},
     "output_type": "execute_result"
    }
   ],
   "source": [
    "df[\"cuisine\"]"
   ]
  },
  {
   "cell_type": "markdown",
   "metadata": {},
   "source": [
    "<b> Converting the Data into a Basket Format"
   ]
  },
  {
   "cell_type": "code",
   "execution_count": 26,
   "metadata": {
    "colab": {},
    "colab_type": "code",
    "id": "SA7-b0W-vnt3"
   },
   "outputs": [],
   "source": [
    "data=df[\"cuisine\"].apply(lambda x: pd.Series(str(x).split(',')))"
   ]
  },
  {
   "cell_type": "code",
   "execution_count": 27,
   "metadata": {
    "colab": {
     "base_uri": "https://localhost:8080/",
     "height": 402
    },
    "colab_type": "code",
    "id": "tlVjqXWhl3jZ",
    "outputId": "2499077a-7493-4d72-a276-95c80ddcff45"
   },
   "outputs": [
    {
     "data": {
      "text/html": [
       "<div>\n",
       "<style scoped>\n",
       "    .dataframe tbody tr th:only-of-type {\n",
       "        vertical-align: middle;\n",
       "    }\n",
       "\n",
       "    .dataframe tbody tr th {\n",
       "        vertical-align: top;\n",
       "    }\n",
       "\n",
       "    .dataframe thead th {\n",
       "        text-align: right;\n",
       "    }\n",
       "</style>\n",
       "<table border=\"1\" class=\"dataframe\">\n",
       "  <thead>\n",
       "    <tr style=\"text-align: right;\">\n",
       "      <th></th>\n",
       "      <th>0</th>\n",
       "      <th>1</th>\n",
       "      <th>2</th>\n",
       "      <th>3</th>\n",
       "      <th>4</th>\n",
       "      <th>5</th>\n",
       "      <th>6</th>\n",
       "      <th>7</th>\n",
       "    </tr>\n",
       "  </thead>\n",
       "  <tbody>\n",
       "    <tr>\n",
       "      <th>0</th>\n",
       "      <td>South Indian</td>\n",
       "      <td>NaN</td>\n",
       "      <td>NaN</td>\n",
       "      <td>NaN</td>\n",
       "      <td>NaN</td>\n",
       "      <td>NaN</td>\n",
       "      <td>NaN</td>\n",
       "      <td>NaN</td>\n",
       "    </tr>\n",
       "    <tr>\n",
       "      <th>1</th>\n",
       "      <td>South Indian</td>\n",
       "      <td>NaN</td>\n",
       "      <td>NaN</td>\n",
       "      <td>NaN</td>\n",
       "      <td>NaN</td>\n",
       "      <td>NaN</td>\n",
       "      <td>NaN</td>\n",
       "      <td>NaN</td>\n",
       "    </tr>\n",
       "    <tr>\n",
       "      <th>2</th>\n",
       "      <td>Bakery</td>\n",
       "      <td>Desserts</td>\n",
       "      <td>NaN</td>\n",
       "      <td>NaN</td>\n",
       "      <td>NaN</td>\n",
       "      <td>NaN</td>\n",
       "      <td>NaN</td>\n",
       "      <td>NaN</td>\n",
       "    </tr>\n",
       "    <tr>\n",
       "      <th>3</th>\n",
       "      <td>Italian</td>\n",
       "      <td>NaN</td>\n",
       "      <td>NaN</td>\n",
       "      <td>NaN</td>\n",
       "      <td>NaN</td>\n",
       "      <td>NaN</td>\n",
       "      <td>NaN</td>\n",
       "      <td>NaN</td>\n",
       "    </tr>\n",
       "    <tr>\n",
       "      <th>4</th>\n",
       "      <td>Desserts</td>\n",
       "      <td>NaN</td>\n",
       "      <td>NaN</td>\n",
       "      <td>NaN</td>\n",
       "      <td>NaN</td>\n",
       "      <td>NaN</td>\n",
       "      <td>NaN</td>\n",
       "      <td>NaN</td>\n",
       "    </tr>\n",
       "    <tr>\n",
       "      <th>...</th>\n",
       "      <td>...</td>\n",
       "      <td>...</td>\n",
       "      <td>...</td>\n",
       "      <td>...</td>\n",
       "      <td>...</td>\n",
       "      <td>...</td>\n",
       "      <td>...</td>\n",
       "      <td>...</td>\n",
       "    </tr>\n",
       "    <tr>\n",
       "      <th>15012</th>\n",
       "      <td>Chinese</td>\n",
       "      <td>North Indian</td>\n",
       "      <td>Fast Food</td>\n",
       "      <td>Biryani</td>\n",
       "      <td>NaN</td>\n",
       "      <td>NaN</td>\n",
       "      <td>NaN</td>\n",
       "      <td>NaN</td>\n",
       "    </tr>\n",
       "    <tr>\n",
       "      <th>15013</th>\n",
       "      <td>Ice Cream</td>\n",
       "      <td>Desserts</td>\n",
       "      <td>Beverages</td>\n",
       "      <td>NaN</td>\n",
       "      <td>NaN</td>\n",
       "      <td>NaN</td>\n",
       "      <td>NaN</td>\n",
       "      <td>NaN</td>\n",
       "    </tr>\n",
       "    <tr>\n",
       "      <th>15020</th>\n",
       "      <td>North Indian</td>\n",
       "      <td>NaN</td>\n",
       "      <td>NaN</td>\n",
       "      <td>NaN</td>\n",
       "      <td>NaN</td>\n",
       "      <td>NaN</td>\n",
       "      <td>NaN</td>\n",
       "      <td>NaN</td>\n",
       "    </tr>\n",
       "    <tr>\n",
       "      <th>15021</th>\n",
       "      <td>North Indian</td>\n",
       "      <td>Chinese</td>\n",
       "      <td>NaN</td>\n",
       "      <td>NaN</td>\n",
       "      <td>NaN</td>\n",
       "      <td>NaN</td>\n",
       "      <td>NaN</td>\n",
       "      <td>NaN</td>\n",
       "    </tr>\n",
       "    <tr>\n",
       "      <th>15022</th>\n",
       "      <td>Beverages</td>\n",
       "      <td>Juices</td>\n",
       "      <td>Sandwich</td>\n",
       "      <td>Healthy Food</td>\n",
       "      <td>NaN</td>\n",
       "      <td>NaN</td>\n",
       "      <td>NaN</td>\n",
       "      <td>NaN</td>\n",
       "    </tr>\n",
       "  </tbody>\n",
       "</table>\n",
       "<p>12017 rows × 8 columns</p>\n",
       "</div>"
      ],
      "text/plain": [
       "                  0             1          2             3    4    5    6    7\n",
       "0      South Indian           NaN        NaN           NaN  NaN  NaN  NaN  NaN\n",
       "1      South Indian           NaN        NaN           NaN  NaN  NaN  NaN  NaN\n",
       "2            Bakery      Desserts        NaN           NaN  NaN  NaN  NaN  NaN\n",
       "3           Italian           NaN        NaN           NaN  NaN  NaN  NaN  NaN\n",
       "4          Desserts           NaN        NaN           NaN  NaN  NaN  NaN  NaN\n",
       "...             ...           ...        ...           ...  ...  ...  ...  ...\n",
       "15012       Chinese  North Indian  Fast Food       Biryani  NaN  NaN  NaN  NaN\n",
       "15013     Ice Cream      Desserts  Beverages           NaN  NaN  NaN  NaN  NaN\n",
       "15020  North Indian           NaN        NaN           NaN  NaN  NaN  NaN  NaN\n",
       "15021  North Indian       Chinese        NaN           NaN  NaN  NaN  NaN  NaN\n",
       "15022     Beverages        Juices   Sandwich  Healthy Food  NaN  NaN  NaN  NaN\n",
       "\n",
       "[12017 rows x 8 columns]"
      ]
     },
     "execution_count": 27,
     "metadata": {},
     "output_type": "execute_result"
    }
   ],
   "source": [
    "data"
   ]
  },
  {
   "cell_type": "code",
   "execution_count": 28,
   "metadata": {
    "colab": {},
    "colab_type": "code",
    "id": "uCRp6n2w2R_L"
   },
   "outputs": [],
   "source": [
    "# Adding all customers into a list of lists\n",
    "transactions = []\n",
    "for i in range(0, len(data)):\n",
    "    transactions.append([str(data.values[i,j]) for j in range(0, 8)])"
   ]
  },
  {
   "cell_type": "markdown",
   "metadata": {},
   "source": [
    "Generate frequent itemsets that have a support value of at least 3% and confidence of 20%(this number is chosen so that you can get close enough)\n",
    "Generate the rules with their corresponding support, confidence and lift."
   ]
  },
  {
   "cell_type": "code",
   "execution_count": 66,
   "metadata": {
    "colab": {},
    "colab_type": "code",
    "id": "0VuI095wl40T"
   },
   "outputs": [],
   "source": [
    "from apyori import apriori\n",
    "rules = apriori(transactions, min_support = 0.003, min_confidence = 0.2, min_lift = 3, min_length = 2)"
   ]
  },
  {
   "cell_type": "code",
   "execution_count": 67,
   "metadata": {
    "colab": {},
    "colab_type": "code",
    "id": "xGFjV8wJmaVY"
   },
   "outputs": [],
   "source": [
    "results = list(rules)"
   ]
  },
  {
   "cell_type": "code",
   "execution_count": 68,
   "metadata": {},
   "outputs": [
    {
     "data": {
      "text/plain": [
       "RelationRecord(items=frozenset({'Biryani', 'Andhra'}), support=0.017558458849962554, ordered_statistics=[OrderedStatistic(items_base=frozenset({'Andhra'}), items_add=frozenset({'Biryani'}), confidence=0.44798301486199577, lift=3.274581441360464)])"
      ]
     },
     "execution_count": 68,
     "metadata": {},
     "output_type": "execute_result"
    }
   ],
   "source": [
    "results[2]"
   ]
  },
  {
   "cell_type": "markdown",
   "metadata": {},
   "source": [
    "# Support\n",
    " Support is an indication of how frequently the itemset appears in the dataset.<br>\n",
    "<b>The support of X with respect to T is defined as the proportion of transactions T in the\n",
    "dataset which contains the itemset X."
   ]
  },
  {
   "cell_type": "markdown",
   "metadata": {},
   "source": [
    "# Confidence\n",
    " Confidence is an indication of how often the rule has been found to be true.<br>\n",
    " The confidence value of a rule, X ---> Y , with respect to a set of transactions T, is the\n",
    "proportion of the transactions that contains X which also contains Y.\n",
    " <b>Confidence is defined as:<br>\n",
    " conf(X ---> Y)=supp(X U Y)/supp (X)"
   ]
  },
  {
   "cell_type": "markdown",
   "metadata": {},
   "source": [
    "# Lift\n",
    " how likely item Y is purchased when item X is purchased, while controlling for how popular item Y is<br>\n",
    "<b>The lift of a rule is defined as:<br>\n",
    "lift (X ---> Y)=sup (X U Y) / sup ( X ) x sup ( Y )<br>\n",
    "the ratio of the observed support to that expected if X and Y were independent."
   ]
  },
  {
   "cell_type": "code",
   "execution_count": 69,
   "metadata": {
    "colab": {},
    "colab_type": "code",
    "id": "G428Vawo2R_Q"
   },
   "outputs": [],
   "source": [
    "lift = []\n",
    "antecedants = []\n",
    "consequents=[]\n",
    "support=[]\n",
    "confidence=[]\n",
    "for i in range (0, len(results)):\n",
    "    support.append(results[:len(results)][i][1])\n",
    "    confidence.append(results[:len(results)][i][2][0][2])\n",
    "    lift.append(results[:len(results)][i][2][0][3])\n",
    "    antecedants.append(list(results[:len(results)][i][2][0][0]))\n",
    "    consequents.append(list(results[:len(results)][i][2][0][1]))"
   ]
  },
  {
   "cell_type": "code",
   "execution_count": 70,
   "metadata": {
    "colab": {},
    "colab_type": "code",
    "id": "Ckc_j9nI2R_U"
   },
   "outputs": [],
   "source": [
    "rank = pd.DataFrame([antecedants,consequents,support,confidence,lift]).transpose()\n",
    "rank.columns = ['antecedants','consequents','support','Confidence','Lift']"
   ]
  },
  {
   "cell_type": "code",
   "execution_count": 71,
   "metadata": {
    "colab": {},
    "colab_type": "code",
    "id": "7_tnfJur2R_X"
   },
   "outputs": [
    {
     "data": {
      "text/html": [
       "<div>\n",
       "<style scoped>\n",
       "    .dataframe tbody tr th:only-of-type {\n",
       "        vertical-align: middle;\n",
       "    }\n",
       "\n",
       "    .dataframe tbody tr th {\n",
       "        vertical-align: top;\n",
       "    }\n",
       "\n",
       "    .dataframe thead th {\n",
       "        text-align: right;\n",
       "    }\n",
       "</style>\n",
       "<table border=\"1\" class=\"dataframe\">\n",
       "  <thead>\n",
       "    <tr style=\"text-align: right;\">\n",
       "      <th></th>\n",
       "      <th>antecedants</th>\n",
       "      <th>consequents</th>\n",
       "      <th>support</th>\n",
       "      <th>Confidence</th>\n",
       "      <th>Lift</th>\n",
       "    </tr>\n",
       "  </thead>\n",
       "  <tbody>\n",
       "    <tr>\n",
       "      <th>12</th>\n",
       "      <td>[Burger]</td>\n",
       "      <td>[Sandwich]</td>\n",
       "      <td>0.00416077</td>\n",
       "      <td>0.268817</td>\n",
       "      <td>15.4563</td>\n",
       "    </tr>\n",
       "    <tr>\n",
       "      <th>53</th>\n",
       "      <td>[Continental, Cafe]</td>\n",
       "      <td>[Italian]</td>\n",
       "      <td>0.0043272</td>\n",
       "      <td>0.468468</td>\n",
       "      <td>13.9002</td>\n",
       "    </tr>\n",
       "    <tr>\n",
       "      <th>72</th>\n",
       "      <td>[Chinese, Desserts]</td>\n",
       "      <td>[North Indian, Beverages]</td>\n",
       "      <td>0.00382791</td>\n",
       "      <td>0.554217</td>\n",
       "      <td>13.8751</td>\n",
       "    </tr>\n",
       "    <tr>\n",
       "      <th>87</th>\n",
       "      <td>[Continental, Cafe]</td>\n",
       "      <td>[Italian, nan]</td>\n",
       "      <td>0.00407756</td>\n",
       "      <td>0.441441</td>\n",
       "      <td>13.4299</td>\n",
       "    </tr>\n",
       "    <tr>\n",
       "      <th>11</th>\n",
       "      <td>[Burger]</td>\n",
       "      <td>[Pizza]</td>\n",
       "      <td>0.00424399</td>\n",
       "      <td>0.274194</td>\n",
       "      <td>13.34</td>\n",
       "    </tr>\n",
       "    <tr>\n",
       "      <th>...</th>\n",
       "      <td>...</td>\n",
       "      <td>...</td>\n",
       "      <td>...</td>\n",
       "      <td>...</td>\n",
       "      <td>...</td>\n",
       "    </tr>\n",
       "    <tr>\n",
       "      <th>28</th>\n",
       "      <td>[Andhra]</td>\n",
       "      <td>[Biryani, nan]</td>\n",
       "      <td>0.017392</td>\n",
       "      <td>0.443737</td>\n",
       "      <td>3.25344</td>\n",
       "    </tr>\n",
       "    <tr>\n",
       "      <th>33</th>\n",
       "      <td>[Burger]</td>\n",
       "      <td>[Beverages, Fast Food]</td>\n",
       "      <td>0.00349505</td>\n",
       "      <td>0.225806</td>\n",
       "      <td>3.24583</td>\n",
       "    </tr>\n",
       "    <tr>\n",
       "      <th>86</th>\n",
       "      <td>[Mughlai]</td>\n",
       "      <td>[North Indian, Biryani, nan]</td>\n",
       "      <td>0.00882084</td>\n",
       "      <td>0.226496</td>\n",
       "      <td>3.23638</td>\n",
       "    </tr>\n",
       "    <tr>\n",
       "      <th>61</th>\n",
       "      <td>[Sandwich]</td>\n",
       "      <td>[nan, Desserts]</td>\n",
       "      <td>0.00382791</td>\n",
       "      <td>0.220096</td>\n",
       "      <td>3.11897</td>\n",
       "    </tr>\n",
       "    <tr>\n",
       "      <th>70</th>\n",
       "      <td>[Burger]</td>\n",
       "      <td>[Beverages, nan, Fast Food]</td>\n",
       "      <td>0.0032454</td>\n",
       "      <td>0.209677</td>\n",
       "      <td>3.05048</td>\n",
       "    </tr>\n",
       "  </tbody>\n",
       "</table>\n",
       "<p>99 rows × 5 columns</p>\n",
       "</div>"
      ],
      "text/plain": [
       "            antecedants                   consequents     support Confidence  \\\n",
       "12             [Burger]                    [Sandwich]  0.00416077   0.268817   \n",
       "53  [Continental, Cafe]                     [Italian]   0.0043272   0.468468   \n",
       "72  [Chinese, Desserts]     [North Indian, Beverages]  0.00382791   0.554217   \n",
       "87  [Continental, Cafe]                [Italian, nan]  0.00407756   0.441441   \n",
       "11             [Burger]                       [Pizza]  0.00424399   0.274194   \n",
       "..                  ...                           ...         ...        ...   \n",
       "28             [Andhra]                [Biryani, nan]    0.017392   0.443737   \n",
       "33             [Burger]        [Beverages, Fast Food]  0.00349505   0.225806   \n",
       "86            [Mughlai]  [North Indian, Biryani, nan]  0.00882084   0.226496   \n",
       "61           [Sandwich]               [nan, Desserts]  0.00382791   0.220096   \n",
       "70             [Burger]   [Beverages, nan, Fast Food]   0.0032454   0.209677   \n",
       "\n",
       "       Lift  \n",
       "12  15.4563  \n",
       "53  13.9002  \n",
       "72  13.8751  \n",
       "87  13.4299  \n",
       "11    13.34  \n",
       "..      ...  \n",
       "28  3.25344  \n",
       "33  3.24583  \n",
       "86  3.23638  \n",
       "61  3.11897  \n",
       "70  3.05048  \n",
       "\n",
       "[99 rows x 5 columns]"
      ]
     },
     "execution_count": 71,
     "metadata": {},
     "output_type": "execute_result"
    }
   ],
   "source": [
    "# Show top 10 higher lift scores\n",
    "rank.sort_values('Lift', ascending=False)"
   ]
  },
  {
   "cell_type": "markdown",
   "metadata": {},
   "source": [
    "Lift indicates the strength of a rule over the random occurrence of antecedants and consequents.Here,few rules with a high lift value,  means that it occurs more frequently than would be expected given the number of transaction and product combinations"
   ]
  },
  {
   "cell_type": "markdown",
   "metadata": {},
   "source": [
    "<b>A customer who purchases <b>Burger is 15.4563 times more likely to also purchase [Sandwich]</b>\n",
    "\n",
    " We also find out that the customers who order <b>Chinese are 13.8751 times more likely to also order North Indian</b>\n",
    "     \n",
    "    \n",
    " Another one is If <b>Continental is ordered then it is 13.9002 time more likely to order Italian."
   ]
  },
  {
   "cell_type": "markdown",
   "metadata": {},
   "source": [
    "## 4.2ECLAT"
   ]
  },
  {
   "cell_type": "markdown",
   "metadata": {},
   "source": [
    "The vertical approach of the ECLAT algorithm makes it a faster algorithm than the Apriori algorithm.This is an implementation of the ECLAT code by hand. It calculate the pairs that have been bought more frequently comparing to other pairs. At the end, we expect to see what is the most common combination of products"
   ]
  },
  {
   "cell_type": "markdown",
   "metadata": {},
   "source": [
    "<b> Getting the list of unique cuisines ordered by all customers"
   ]
  },
  {
   "cell_type": "code",
   "execution_count": 35,
   "metadata": {},
   "outputs": [],
   "source": [
    "# Putting all transactions in a single list\n",
    "itens = []\n",
    "for i in range(0, len(transactions)):\n",
    "    itens.extend(transactions[i])\n",
    "\n",
    "# Finding unique items from transactions and removing nan\n",
    "uniqueItems = list(set(itens))\n",
    "uniqueItems.remove('nan')"
   ]
  },
  {
   "cell_type": "code",
   "execution_count": 36,
   "metadata": {},
   "outputs": [
    {
     "data": {
      "text/plain": [
       "['Cafe',\n",
       " 'Korean',\n",
       " 'Afghan',\n",
       " 'Mediterranean',\n",
       " 'Middle Eastern',\n",
       " 'British',\n",
       " 'Juices',\n",
       " 'Mangalorean',\n",
       " 'Greek',\n",
       " 'North Eastern']"
      ]
     },
     "execution_count": 36,
     "metadata": {},
     "output_type": "execute_result"
    }
   ],
   "source": [
    "uniqueItems[:10]"
   ]
  },
  {
   "cell_type": "markdown",
   "metadata": {},
   "source": [
    "### Creating combinations with the items - pairs"
   ]
  },
  {
   "cell_type": "code",
   "execution_count": 37,
   "metadata": {},
   "outputs": [],
   "source": [
    "pair = []\n",
    "for j in range(0, len(uniqueItems)):\n",
    "    k = 1;\n",
    "    while k <= len(uniqueItems):\n",
    "        try:\n",
    "            pair.append([uniqueItems[j], uniqueItems[j+k]])\n",
    "        except IndexError:\n",
    "            pass\n",
    "        k = k + 1;       "
   ]
  },
  {
   "cell_type": "code",
   "execution_count": 73,
   "metadata": {},
   "outputs": [
    {
     "data": {
      "text/plain": [
       "[['Cafe', 'Korean'],\n",
       " ['Cafe', 'Afghan'],\n",
       " ['Cafe', 'Mediterranean'],\n",
       " ['Cafe', 'Middle Eastern'],\n",
       " ['Cafe', 'British'],\n",
       " ['Cafe', 'Juices'],\n",
       " ['Cafe', 'Mangalorean'],\n",
       " ['Cafe', 'Greek'],\n",
       " ['Cafe', 'North Eastern'],\n",
       " ['Cafe', 'Mithai']]"
      ]
     },
     "execution_count": 73,
     "metadata": {},
     "output_type": "execute_result"
    }
   ],
   "source": [
    "pair[:10]"
   ]
  },
  {
   "cell_type": "markdown",
   "metadata": {},
   "source": [
    "### Calculating score\n",
    "The calculation is done looking at the number of customers that bought both items (the pair) and divided by no. of customers(99). This calculation is done for all pairs possible and the score is returned on \"score\" list.\n",
    "\n",
    "$ score = \\frac{\\text{number of lists that contain [item x and item y]}} {\\text{number of all lists}} $"
   ]
  },
  {
   "cell_type": "code",
   "execution_count": 62,
   "metadata": {},
   "outputs": [
    {
     "name": "stdout",
     "output_type": "stream",
     "text": [
      "Wall time: 15.6 s\n"
     ]
    }
   ],
   "source": [
    "%%time\n",
    "score = []\n",
    "for i in pair:\n",
    "    cond = []\n",
    "    for item in i:\n",
    "        cond.append('(\"%s\") in s' %item)\n",
    "    mycode = ('[s for s in transactions if ' + ' and '.join(cond) + ']')\n",
    "    \n",
    "    score.append(len(eval(mycode))/12017.)"
   ]
  },
  {
   "cell_type": "markdown",
   "metadata": {},
   "source": [
    "<b>Top 10 Most common pairs of items"
   ]
  },
  {
   "cell_type": "code",
   "execution_count": 63,
   "metadata": {},
   "outputs": [],
   "source": [
    "items_bought=list(zip(*pair))[0]\n",
    "recommend=list(zip(*pair))[1]"
   ]
  },
  {
   "cell_type": "code",
   "execution_count": 64,
   "metadata": {},
   "outputs": [],
   "source": [
    "ranking_ECLAT = pd.DataFrame([items_bought,recommend,score]).transpose()\n",
    "ranking_ECLAT.columns = ['Items Bought','Recommended product','Score']"
   ]
  },
  {
   "cell_type": "code",
   "execution_count": 65,
   "metadata": {},
   "outputs": [
    {
     "data": {
      "text/html": [
       "<div>\n",
       "<style scoped>\n",
       "    .dataframe tbody tr th:only-of-type {\n",
       "        vertical-align: middle;\n",
       "    }\n",
       "\n",
       "    .dataframe tbody tr th {\n",
       "        vertical-align: top;\n",
       "    }\n",
       "\n",
       "    .dataframe thead th {\n",
       "        text-align: right;\n",
       "    }\n",
       "</style>\n",
       "<table border=\"1\" class=\"dataframe\">\n",
       "  <thead>\n",
       "    <tr style=\"text-align: right;\">\n",
       "      <th></th>\n",
       "      <th>Items Bought</th>\n",
       "      <th>Recommended product</th>\n",
       "      <th>Score</th>\n",
       "    </tr>\n",
       "  </thead>\n",
       "  <tbody>\n",
       "    <tr>\n",
       "      <th>2787</th>\n",
       "      <td>Chinese</td>\n",
       "      <td>North Indian</td>\n",
       "      <td>0.28235</td>\n",
       "    </tr>\n",
       "    <tr>\n",
       "      <th>1842</th>\n",
       "      <td>South Indian</td>\n",
       "      <td>North Indian</td>\n",
       "      <td>0.111925</td>\n",
       "    </tr>\n",
       "    <tr>\n",
       "      <th>1819</th>\n",
       "      <td>South Indian</td>\n",
       "      <td>Chinese</td>\n",
       "      <td>0.103686</td>\n",
       "    </tr>\n",
       "    <tr>\n",
       "      <th>3944</th>\n",
       "      <td>North Indian</td>\n",
       "      <td>Biryani</td>\n",
       "      <td>0.0704003</td>\n",
       "    </tr>\n",
       "    <tr>\n",
       "      <th>4523</th>\n",
       "      <td>Fast Food</td>\n",
       "      <td>Beverages</td>\n",
       "      <td>0.0695681</td>\n",
       "    </tr>\n",
       "    <tr>\n",
       "      <th>...</th>\n",
       "      <td>...</td>\n",
       "      <td>...</td>\n",
       "      <td>...</td>\n",
       "    </tr>\n",
       "    <tr>\n",
       "      <th>1662</th>\n",
       "      <td>Tex-Mex</td>\n",
       "      <td>Bar Food</td>\n",
       "      <td>0</td>\n",
       "    </tr>\n",
       "    <tr>\n",
       "      <th>1663</th>\n",
       "      <td>Tex-Mex</td>\n",
       "      <td>Konkan</td>\n",
       "      <td>0</td>\n",
       "    </tr>\n",
       "    <tr>\n",
       "      <th>1665</th>\n",
       "      <td>Tex-Mex</td>\n",
       "      <td>Andhra</td>\n",
       "      <td>0</td>\n",
       "    </tr>\n",
       "    <tr>\n",
       "      <th>1666</th>\n",
       "      <td>Tex-Mex</td>\n",
       "      <td>Steak</td>\n",
       "      <td>0</td>\n",
       "    </tr>\n",
       "    <tr>\n",
       "      <th>4655</th>\n",
       "      <td>Tamil</td>\n",
       "      <td>Bihari</td>\n",
       "      <td>0</td>\n",
       "    </tr>\n",
       "  </tbody>\n",
       "</table>\n",
       "<p>4656 rows × 3 columns</p>\n",
       "</div>"
      ],
      "text/plain": [
       "      Items Bought Recommended product      Score\n",
       "2787       Chinese        North Indian    0.28235\n",
       "1842  South Indian        North Indian   0.111925\n",
       "1819  South Indian             Chinese   0.103686\n",
       "3944  North Indian             Biryani  0.0704003\n",
       "4523     Fast Food           Beverages  0.0695681\n",
       "...            ...                 ...        ...\n",
       "1662       Tex-Mex            Bar Food          0\n",
       "1663       Tex-Mex              Konkan          0\n",
       "1665       Tex-Mex              Andhra          0\n",
       "1666       Tex-Mex               Steak          0\n",
       "4655         Tamil              Bihari          0\n",
       "\n",
       "[4656 rows x 3 columns]"
      ]
     },
     "execution_count": 65,
     "metadata": {},
     "output_type": "execute_result"
    }
   ],
   "source": [
    "ranking_ECLAT.sort_values('Score', ascending=False)"
   ]
  },
  {
   "cell_type": "markdown",
   "metadata": {},
   "source": [
    "We can observe from both Apriori and ECLAT algorithm ,<b>Chinese and North Indian Cuisines are bought together with Confidence score of 28%</b>"
   ]
  },
  {
   "cell_type": "markdown",
   "metadata": {},
   "source": [
    "# 5. Recommendations"
   ]
  },
  {
   "cell_type": "markdown",
   "metadata": {},
   "source": [
    "<b>The acquired rules generated cay be used to improve the Special dishes and matching the cuisines liked by most of people to increase customer satisfaction,and consequently, to raise the restaurant’s business rate in the long run.<br>\n",
    "    \n",
    "The restaurants should be redesign their menu to the likes of the customer both in quantity and quality so that more and more customers can indulge in the restaurant.<br>\n",
    "    \n",
    "\n",
    "    \n",
    "From the perspective of business investments the shareholder or other investors can look at the requirements of the customer and invest accordingly to the restaurant business."
   ]
  },
  {
   "cell_type": "code",
   "execution_count": null,
   "metadata": {},
   "outputs": [],
   "source": []
  }
 ],
 "metadata": {
  "colab": {
   "collapsed_sections": [],
   "name": "Group_Project _2.ipynb",
   "provenance": []
  },
  "kernelspec": {
   "display_name": "Python 3",
   "language": "python",
   "name": "python3"
  },
  "language_info": {
   "codemirror_mode": {
    "name": "ipython",
    "version": 3
   },
   "file_extension": ".py",
   "mimetype": "text/x-python",
   "name": "python",
   "nbconvert_exporter": "python",
   "pygments_lexer": "ipython3",
   "version": "3.7.6"
  }
 },
 "nbformat": 4,
 "nbformat_minor": 1
}
