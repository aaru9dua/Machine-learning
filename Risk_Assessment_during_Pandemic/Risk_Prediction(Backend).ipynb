{
  "nbformat": 4,
  "nbformat_minor": 0,
  "metadata": {
    "kernelspec": {
      "display_name": "Python 3",
      "language": "python",
      "name": "python3"
    },
    "language_info": {
      "codemirror_mode": {
        "name": "ipython",
        "version": 3
      },
      "file_extension": ".py",
      "mimetype": "text/x-python",
      "name": "python",
      "nbconvert_exporter": "python",
      "pygments_lexer": "ipython3",
      "version": "3.7.6"
    },
    "toc": {
      "base_numbering": 1,
      "nav_menu": {},
      "number_sections": true,
      "sideBar": true,
      "skip_h1_title": false,
      "title_cell": "Table of Contents",
      "title_sidebar": "Contents",
      "toc_cell": false,
      "toc_position": {
        "height": "calc(100% - 180px)",
        "left": "10px",
        "top": "150px",
        "width": "341.319px"
      },
      "toc_section_display": true,
      "toc_window_display": true
    },
    "varInspector": {
      "cols": {
        "lenName": 16,
        "lenType": 16,
        "lenVar": 40
      },
      "kernels_config": {
        "python": {
          "delete_cmd_postfix": "",
          "delete_cmd_prefix": "del ",
          "library": "var_list.py",
          "varRefreshCmd": "print(var_dic_list())"
        },
        "r": {
          "delete_cmd_postfix": ") ",
          "delete_cmd_prefix": "rm(",
          "library": "var_list.r",
          "varRefreshCmd": "cat(var_dic_list()) "
        }
      },
      "types_to_exclude": [
        "module",
        "function",
        "builtin_function_or_method",
        "instance",
        "_Feature"
      ],
      "window_display": false
    },
    "colab": {
      "name": "Risk_Prediction(Backend).ipynb",
      "provenance": [],
      "collapsed_sections": [],
      "toc_visible": true
    }
  },
  "cells": [
    {
      "cell_type": "markdown",
      "metadata": {
        "id": "VOJAe8O8vCL4"
      },
      "source": [
        "# Employee Risk Prediction"
      ]
    },
    {
      "cell_type": "markdown",
      "metadata": {
        "id": "ZxTK4nGFlxr2"
      },
      "source": [
        "This project aims to build a predictive risk score model for each employee who \"return to work\" (RTW) after COVID-19 by using a machine-learning algorithm.\r\n",
        "\r\n",
        "---\r\n",
        "\r\n",
        "We generated random data for a total of 10,000 employees by giving weightage to some variables.\r\n",
        "\r\n",
        "The variables were selected according to the potential risk factors that have been identified till now.Given below are selected 18 attributes-  \r\n",
        "\r\n",
        "      "
      ]
    },
    {
      "cell_type": "markdown",
      "metadata": {
        "id": "21gIryp6v_CI"
      },
      "source": [
        "\r\n",
        "**Attributes-**\r\n",
        "\r\n",
        "1. Employee id-(Unique employee id)\r\n",
        "2. Company's Location-(office zip code)\r\n",
        "3. Age (20-60)      \r\n",
        "4. Gender(Male/ Female/ Gender)\r\n",
        "5. Residence(employee's zip address)\r\n",
        "6. Commute mode(Private/Personal vechile) \r\n",
        "7. Shift(General/Night)\r\n",
        "8. Office Structure(Cabin/ Cubical/ Continuous Desk)                    \r\n",
        "9. Travel history(in past 30 days)\r\n",
        "10. Current Disease(Yes/No) \r\n",
        "11. Current infected (Yes/No)    \r\n",
        "12. Previously infected(Yes/No)\r\n",
        "13. Dependent(Senior Citizen/Infant)(Yes-Exist/No-Not exist)\r\n",
        "14. Dependent's disease(Yes/No)\r\n",
        "15. Dependent infected currently(Yes/No)\r\n",
        "16. Vaccine Status(Yes/No)\r\n",
        "17. Fitness Level(Fit/Unfit)               \r\n",
        "18. Infection Rate "
      ]
    },
    {
      "cell_type": "markdown",
      "metadata": {
        "id": "wG7FE6TrsB1j"
      },
      "source": [
        "# Importing Libraries and dataset"
      ]
    },
    {
      "cell_type": "code",
      "metadata": {
        "id": "nhuZk3HTvCMA"
      },
      "source": [
        "import numpy as np\n",
        "import pandas as pd \n",
        "import warnings\n",
        "warnings.filterwarnings('ignore')"
      ],
      "execution_count": 48,
      "outputs": []
    },
    {
      "cell_type": "code",
      "metadata": {
        "id": "xEYCXz3AvCMB"
      },
      "source": [
        "Infection_data=pd.read_csv(\"data_infection.csv\")"
      ],
      "execution_count": 49,
      "outputs": []
    },
    {
      "cell_type": "markdown",
      "metadata": {
        "id": "avMroaicsYIJ"
      },
      "source": [
        "# Data Cleaning"
      ]
    },
    {
      "cell_type": "markdown",
      "metadata": {
        "id": "yLkj1osD7tGf"
      },
      "source": [
        "\r\n",
        "\r\n",
        " > **Error handling**\r\n",
        "\r\n"
      ]
    },
    {
      "cell_type": "code",
      "metadata": {
        "id": "HXMZt1bG7sXC"
      },
      "source": [
        "#Define customize exception class\r\n",
        "class duplicateID(Exception):\r\n",
        "     pass\r\n",
        "class invalidAge(Exception):\r\n",
        "     pass\r\n",
        "class invalidResidence(Exception):\r\n",
        "     pass\r\n",
        "class invalidDatatype(Exception):\r\n",
        "     pass"
      ],
      "execution_count": 50,
      "outputs": []
    },
    {
      "cell_type": "markdown",
      "metadata": {
        "id": "vfUeRtay8YYD"
      },
      "source": [
        "1. **Handle duplicate Employee id**\r\n",
        "\r\n",
        "\r\n"
      ]
    },
    {
      "cell_type": "code",
      "metadata": {
        "id": "mLzX8Ulw79fi"
      },
      "source": [
        "try:\r\n",
        "  if not Infection_data[\"Employee id\"].duplicated().any():\r\n",
        "    pass\r\n",
        "  else:\r\n",
        "    #remove duplicate employee id(just keep one)\r\n",
        "    duplicate_index=Infection_data.index[Infection_data[\"Employee id\"].duplicated(keep=False)]\r\n",
        "    Infection_data=Infection_data.drop_duplicates(subset='Employee id', keep=\"last\")\r\n",
        "    raise duplicateID(Exception)\r\n",
        "except duplicateId:\r\n",
        "  duplicate_emp_id=list(map(lambda x: x + 12001, duplicate_index))"
      ],
      "execution_count": 51,
      "outputs": []
    },
    {
      "cell_type": "markdown",
      "metadata": {
        "id": "Q5h-OmNP9TM1"
      },
      "source": [
        "2. **Handle invalid Age error(Age should be greater than 18)**\r\n",
        "\r\n"
      ]
    },
    {
      "cell_type": "code",
      "metadata": {
        "id": "oeEy37Ye8FBd"
      },
      "source": [
        "try:\r\n",
        "    if Infection_data[Infection_data.Age>18][\"Age\"].all():\r\n",
        "      pass\r\n",
        "    else:\r\n",
        "      invalid_age_index=Infection_data.index[Infection_data.Age<=18]\r\n",
        "      Infection_data=Infection_data.drop(invalid_age_index)\r\n",
        "      raise invalidAge\r\n",
        "\r\n",
        "except invalidAge:\r\n",
        "  emp_inavlid_age=list(map(lambda x: x + 12001, invalid_age_index))"
      ],
      "execution_count": 52,
      "outputs": []
    },
    {
      "cell_type": "markdown",
      "metadata": {
        "id": "eTkn_9qZ9WDi"
      },
      "source": [
        "3. **Handle invalid Residence error(Residence should be within range)**\r\n"
      ]
    },
    {
      "cell_type": "code",
      "metadata": {
        "id": "37nrdSzf8Igx"
      },
      "source": [
        "try:\r\n",
        "  r = list(range(10000,15000)) \r\n",
        "    \r\n",
        "  id=[]\r\n",
        "  for i in range(len(Infection_data)):\r\n",
        "   if Infection_data.Residence[i] in r:\r\n",
        "     pass\r\n",
        "   else:\r\n",
        "     for i in range(len(Infection_data)):\r\n",
        "       if Infection_data.Residence[i] not in r:\r\n",
        "         id.append(i)\r\n",
        "     Infection_data=Infection_data.drop(id)\r\n",
        "     raise invalidResidence\r\n",
        "\r\n",
        "except invalidResidence:\r\n",
        "  emp_resdience_out_of_range=list(map(lambda x: x + 12001, id))"
      ],
      "execution_count": 53,
      "outputs": []
    },
    {
      "cell_type": "markdown",
      "metadata": {
        "id": "1Y9rqGx79aMc"
      },
      "source": [
        "4. **Handle invalid objects in specific datatype columns**"
      ]
    },
    {
      "cell_type": "code",
      "metadata": {
        "id": "f1-JhgqD8NTq"
      },
      "source": [
        "#for numeric columns\r\n",
        "numeric_col=[\"Employee id\",\"Company's Location\",\"Age\",\"Residence\",\"Infection Rate\"]\r\n",
        "try:\r\n",
        "    Infection_data_col=Infection_data.select_dtypes(include=np.number).columns.tolist()\r\n",
        "    if Infection_data_col==numeric_col:\r\n",
        "      pass\r\n",
        "    else:\r\n",
        "      cols=[x for x in numeric_col if x not in Infection_data_col]#non_numeric col\r\n",
        "      for cols in cols:\r\n",
        "        invalid_index=Infection_data.index[Infection_data[cols].apply(lambda x: isinstance(x, str))].values.tolist()\r\n",
        "        Infection_data=Infection_data.drop(invalid_index)\r\n",
        "        raise invalidDatatype\r\n",
        "\r\n",
        "except invalidDatatype:\r\n",
        "  emp_invalid_number=list(map(lambda x: x + 12001, invalid_index))\r\n",
        " "
      ],
      "execution_count": 54,
      "outputs": []
    },
    {
      "cell_type": "code",
      "metadata": {
        "id": "kKT3Nfa-8Qow"
      },
      "source": [
        "# for non numeric columns\r\n",
        "non_numeric_col=['Gender', 'Commute mode', 'Shift', 'Office Structure',\r\n",
        "       'Travel history(in past 30 days)', 'Current Disease',\r\n",
        "       'Current infected', 'Previously infected',\r\n",
        "       'Dependent(Senior Citizen/Infant)', \"Dependent's disease\",\r\n",
        "       'Dependent infected currently', 'Vaccine Status', 'Fitness Level']\r\n",
        "try:\r\n",
        "    Infection_data_col=Infection_data.select_dtypes(exclude=np.number).columns.tolist()\r\n",
        "    if Infection_data_col==non_numeric_col:\r\n",
        "      pass\r\n",
        "    else:\r\n",
        "      cols=[x for x in non_numeric_col if x not in Infection_data_col]#numeric col\r\n",
        "      for cols in cols:\r\n",
        "        invalid_index=Infection_data.index[Infection_data[cols].apply(lambda x: isinstance(x, int))].values.tolist()\r\n",
        "        Infection_data=Infection_data.drop(invalid_index)\r\n",
        "        raise invalidDatatype\r\n",
        "\r\n",
        "except invalidDatatype:\r\n",
        "  emp_invalid_str=list(map(lambda x: x + 12001, invalid_index))\r\n"
      ],
      "execution_count": 55,
      "outputs": []
    },
    {
      "cell_type": "markdown",
      "metadata": {
        "id": "b5drXNgTvCMY"
      },
      "source": [
        "\r\n",
        "\r\n",
        "> <b>Handling missing value</b>\r\n",
        "\r\n"
      ]
    },
    {
      "cell_type": "code",
      "metadata": {
        "id": "LHFVsS5CvCMZ"
      },
      "source": [
        "#should be removed if null, can't assign random prediction\n",
        "col=['Employee id', 'Current Disease', 'Travel history(in past 30 days)','Current infected', 'Previously infected', \"Dependent's disease\", 'Dependent infected currently',\"Vaccine Status\"]\n",
        "index_col=[]\n",
        "\n",
        "for cols in col: \n",
        "    index_col.append(Infection_data[cols].index[Infection_data[cols].isna().values.tolist()])#must store null value index for future error generation\n",
        "    Infection_data=Infection_data.dropna(subset=[cols])\n",
        "    "
      ],
      "execution_count": 56,
      "outputs": []
    },
    {
      "cell_type": "markdown",
      "metadata": {
        "id": "c--SBgmxvCMZ"
      },
      "source": [
        "Note:Must store the index of null values of [employee id, current disease, vaccine date, travel history, current infected, previously infected, dependent's disease, dependent infected, vaccine date ]and these indexes should be dropped from the dataset."
      ]
    },
    {
      "cell_type": "code",
      "metadata": {
        "id": "XFFVOFF6vCMa"
      },
      "source": [
        "#unique column\r\n",
        "Infection_data[\"Company's Location\"].fillna(10022,inplace = True)"
      ],
      "execution_count": 57,
      "outputs": []
    },
    {
      "cell_type": "code",
      "metadata": {
        "id": "HF9m35GyvCMa"
      },
      "source": [
        "#Age column\n",
        "mean_age_seat = Infection_data.groupby(\"Office Structure\", as_index=False).Age.mean()\n",
        "\n",
        "nan_index = Infection_data['Age'].index[Infection_data['Age'].isna()]\n",
        "for i in nan_index:\n",
        "\n",
        "    if (Infection_data[\"Office Structure\"][i] == \"nan\"):\n",
        "\n",
        "        age = mean_age_seat.loc[mean_age_seat[\"Office Structure\"] ==\n",
        "                                Infection_data[\"Office Structure\"][i]].values[0]\n",
        "        Infection_data[\"Age\"][i] = int(age[1])\n",
        "\n",
        "    else:\n",
        "        Infection_data[\"Age\"][i] = int(Infection_data[\"Age\"].mean())"
      ],
      "execution_count": 58,
      "outputs": []
    },
    {
      "cell_type": "code",
      "metadata": {
        "id": "zS415RoPvCMb"
      },
      "source": [
        "#Gender column\n",
        "nan_index=Infection_data['Gender'].index[Infection_data['Gender'].isna()]\n",
        "for i in nan_index:\n",
        "    Infection_data[\"Gender\"][i]=random.choice([\"Female\",\"Male\"], p=[0.48,0.52])"
      ],
      "execution_count": 59,
      "outputs": []
    },
    {
      "cell_type": "code",
      "metadata": {
        "id": "cd1qWoHavCMb"
      },
      "source": [
        "#Residence column\n",
        "nan_index=Infection_data['Residence'].index[Infection_data['Residence'].isna()]\n",
        "for i in nan_index:\n",
        "    x = random.randint(10000,15000)\n",
        "    Infection_data[\"Residence\"][i]=random.choice([10022,x], p=[0.9,0.1])#most residence should match office location"
      ],
      "execution_count": 60,
      "outputs": []
    },
    {
      "cell_type": "code",
      "metadata": {
        "id": "sTvDLPX5vCMc"
      },
      "source": [
        "#Commute mode column\n",
        "nan_index=Infection_data['Commute mode'].index[Infection_data['Commute mode'].isna()]\n",
        "for i in nan_index:\n",
        "    seating=Infection_data[\"Office Structure\"][i]#commute mode generally depends upon office type of an employee\n",
        "    if seating==\"Cabin\":\n",
        "        Infection_data[\"Commute mode\"][i]=\"Private\"\n",
        "    else:\n",
        "        Infection_data[\"Commute mode\"][i]=random.choice([\"Private\",\"Public\"], p=[0.3,0.7])"
      ],
      "execution_count": 61,
      "outputs": []
    },
    {
      "cell_type": "code",
      "metadata": {
        "id": "Swk-E7n-vCMd"
      },
      "source": [
        "#Shift column\n",
        "nan_index = Infection_data['Shift'].index[Infection_data['Shift'].isna()]\n",
        "for i in nan_index:\n",
        "    Infection_data[\"Shift\"][i] = random.choice([\"General\", \"Night\"], p=[0.9, 0.1])"
      ],
      "execution_count": 62,
      "outputs": []
    },
    {
      "cell_type": "code",
      "metadata": {
        "id": "coIpe2DxvCMd"
      },
      "source": [
        "#Office structure column\n",
        "nan_index = Infection_data['Office Structure'].index[Infection_data['Office Structure'].isna()]\n",
        "for i in nan_index:\n",
        "    age = Infection_data[\"Age\"][i]\n",
        "    if age > 40:\n",
        "        Infection_data[\"Office Structure\"][i] = \"Cabin\"\n",
        "    else:\n",
        "        Infection_data[\"Office Structure\"][i] = random.choice(\n",
        "            [\"Cubical\", \"Cabin\", \"Continous Desk\"], p=[0.5, 0.1, 0.4])"
      ],
      "execution_count": 63,
      "outputs": []
    },
    {
      "cell_type": "code",
      "metadata": {
        "id": "gMToufsuvCMe"
      },
      "source": [
        "#Dependent(Senior Citizen/Infant) column\n",
        "nan_index = Infection_data[\"Dependent(Senior Citizen/Infant)\"].index[\n",
        "    Infection_data[\"Dependent(Senior Citizen/Infant)\"].isna()]\n",
        "for i in nan_index:\n",
        "    if Infection_data[\"Gender\"][i] == \"Female\":\n",
        "        if (Infection_data[\"Age\"][i] >= 26) & (Infection_data[\"Age\"][i] <= 40):\n",
        "            Infection_data[\"Dependent(Senior Citizen/Infant)\"][i] = \"Yes\"\n",
        "        else:\n",
        "            Infection_data[\"Dependent(Senior Citizen/Infant)\"][i] = random.choice(\n",
        "                [\"Yes\", \"No\"], p=[0.1, 0.9])\n",
        "\n",
        "    elif Infection_data[\"Gender\"][i] == \"Male\":\n",
        "        if (Infection_data[\"Age\"][i] >= 30) & (Infection_data[\"Age\"][i] <= 44):\n",
        "            Infection_data[\"Dependent(Senior Citizen/Infant)\"][i] = \"Yes\"\n",
        "        else:\n",
        "            Infection_data[\"Dependent(Senior Citizen/Infant)\"][i] = random.choice(\n",
        "                [\"Yes\", \"No\"], p=[0.1, 0.9])\n",
        "\n",
        "    else:\n",
        "        Infection_data[\"Dependent(Senior Citizen/Infant)\"][i] = \"No\""
      ],
      "execution_count": 64,
      "outputs": []
    },
    {
      "cell_type": "code",
      "metadata": {
        "id": "Cx7A_O7WvCMf"
      },
      "source": [
        "#17 Fitness column\n",
        "Infection_data[\"Fitness Level\"].replace(np.nan,Infection_data[\"Fitness Level\"].mode()[0],inplace = True)"
      ],
      "execution_count": 65,
      "outputs": []
    },
    {
      "cell_type": "code",
      "metadata": {
        "id": "uDzgnbUwbpxr"
      },
      "source": [
        "#18 Infection Rate\r\n",
        "nan_index = Infection_data['Infection Rate'].index[Infection_data['Infection Rate'].isna()]\r\n",
        "Infection_data_infect= Infection_data[~Infection_data.index.isin(nan_index)]\r\n",
        "\r\n",
        "for i in nan_index:\r\n",
        "   Infection_data_sorted=Infection_data.iloc[(Infection_data_infect['Residence']-Infection_data[\"Residence\"][i]).abs().argsort()[:2]]\r\n",
        "   Infection_data[\"Infection Rate\"][i]=Infection_data_sorted[\"Infection Rate\"].mean()"
      ],
      "execution_count": 66,
      "outputs": []
    },
    {
      "cell_type": "markdown",
      "metadata": {
        "id": "MRmjM5neBddn"
      },
      "source": [
        "\r\n",
        "\r\n",
        "> **employees whose risk can't be calculated**\r\n",
        "\r\n"
      ]
    },
    {
      "cell_type": "code",
      "metadata": {
        "id": "aFomY-qVvCMh"
      },
      "source": [
        "column_name = []\n",
        "mylists = []\n",
        "base_id = 12001\n",
        "k = 0\n",
        "\n",
        "for colm in index_col:\n",
        "    mylists = mylists + colm.values.tolist()\n",
        "\n",
        "id = list(map(lambda x: x + base_id, mylists))\n",
        "\n",
        "name = [\n",
        "    \"Employee id\", \"Travel history(in past 30 days)\", \"Current Disease\",\n",
        "    \"Current infected\", \"Previously infected\", \"Dependent infected\",\n",
        "    \"Dependent's disease\",\"Vaccine Status\"]\n",
        "\n",
        "for colm in index_col:\n",
        "    for i in range(len(colm)):\n",
        "        column_name.append(name[k])\n",
        "    k += 1"
      ],
      "execution_count": 67,
      "outputs": []
    },
    {
      "cell_type": "code",
      "metadata": {
        "id": "PvKdwmQ2vCMh"
      },
      "source": [
        "emp_null_data=pd.DataFrame(list(zip(id,column_name)), \n",
        "               columns =[\"Employee id\",'Incomplete column'])"
      ],
      "execution_count": 68,
      "outputs": []
    },
    {
      "cell_type": "markdown",
      "metadata": {
        "id": "92m8anPQtPzp"
      },
      "source": [
        "# Grouping numerical data"
      ]
    },
    {
      "cell_type": "markdown",
      "metadata": {
        "id": "tgO4cIdyx7jq"
      },
      "source": [
        "**Zone wise clustering**"
      ]
    },
    {
      "cell_type": "code",
      "metadata": {
        "colab": {
          "base_uri": "https://localhost:8080/"
        },
        "id": "d0-qkJQVhiBr",
        "outputId": "3f8bfd1b-a02d-4d9c-9aae-3c6400a1c747"
      },
      "source": [
        "!pip install kmeans1d"
      ],
      "execution_count": 69,
      "outputs": [
        {
          "output_type": "stream",
          "text": [
            "Requirement already satisfied: kmeans1d in /usr/local/lib/python3.6/dist-packages (0.3.1)\n"
          ],
          "name": "stdout"
        }
      ]
    },
    {
      "cell_type": "code",
      "metadata": {
        "id": "-m0ko0rLtWfG"
      },
      "source": [
        "#Clustering based on infection rate in employee's residence\r\n",
        "#!pip install kmeans1d\r\n",
        "import kmeans1d\r\n",
        "\r\n",
        "x=Infection_data.iloc[:,17].values\r\n",
        "k = 3\r\n",
        "\r\n",
        "clusters, centroids = kmeans1d.cluster(x, k)\r\n"
      ],
      "execution_count": 70,
      "outputs": []
    },
    {
      "cell_type": "code",
      "metadata": {
        "id": "AhfVTeO0tdjV"
      },
      "source": [
        "Infection_data[\"Zone\"]=clusters\r\n",
        "\r\n",
        "def zone(cluster):\r\n",
        "    if cluster==0:\r\n",
        "      return \"Green\"\r\n",
        "    elif cluster==1:\r\n",
        "      return \"Yellow\"\r\n",
        "    if cluster==2:\r\n",
        "      return \"Red\"\r\n",
        "Infection_data[\"Zone\"]=Infection_data[\"Zone\"].apply(zone)\r\n"
      ],
      "execution_count": 71,
      "outputs": []
    },
    {
      "cell_type": "markdown",
      "metadata": {
        "id": "8jiiVNXcy7ld"
      },
      "source": [
        "**Age wise grouping**"
      ]
    },
    {
      "cell_type": "code",
      "metadata": {
        "id": "54JtXV7DxyqI"
      },
      "source": [
        "def age(param):\r\n",
        "    if param <=35 and param >=20:\r\n",
        "        return '20-35'\r\n",
        "    elif param >35 and param<=50:\r\n",
        "        return '36-50'\r\n",
        "    else:\r\n",
        "      return \"50+\"\r\n",
        "    \r\n",
        "Infection_data['Age-group'] = Infection_data['Age'].apply(age)"
      ],
      "execution_count": 72,
      "outputs": []
    },
    {
      "cell_type": "markdown",
      "metadata": {
        "id": "qZXc-ss_xeo5"
      },
      "source": [
        "# Risk Score"
      ]
    },
    {
      "cell_type": "markdown",
      "metadata": {
        "id": "pfJGpeuqyqy8"
      },
      "source": [
        "\r\n",
        "\r\n",
        "> We define a **risk function** to **manually find risk_score** of employee based upon the **importance of variable(10 means most important and 1 means least variable)**\r\n",
        "\r\n",
        "---\r\n",
        "\r\n",
        "\r\n",
        "> We consider a **row with worst case scenerio** of each column (like current_diease= Yes, travel history=Yes and so on) and assign **worst risk=100**\r\n",
        "Now if any row has **one or more columns which doesn't belong to worst case** then ,**reduce a score(based on importance) from worst risk score(here,100)**\r\n",
        "\r\n",
        "\r\n",
        "\r\n",
        "\r\n"
      ]
    },
    {
      "cell_type": "code",
      "metadata": {
        "id": "PakLV_P50zq3"
      },
      "source": [
        "def risk(Infection_data,Score):\r\n",
        "    if Infection_data[\"Dependent infected currently\"]==\"No\":\r\n",
        "        Score=Score-10\r\n",
        "    if Infection_data[\"Current Disease\"]==\"No\":\r\n",
        "        Score=Score-9\r\n",
        "\r\n",
        "    if Infection_data[\"Age-group\"]==\"20-35\":\r\n",
        "        Score=Score-8\r\n",
        "    if Infection_data[\"Age-group\"]==\"36-50\":\r\n",
        "        Score=Score-5\r\n",
        "    if Infection_data[\"Fitness Level\"]==\"Fit\":\r\n",
        "        Score=Score-8\r\n",
        "    if Infection_data[\"Travel history(in past 30 days)\"]==\"No\":\r\n",
        "        Score=Score-8\r\n",
        "    if Infection_data[\"Zone\"]==\"Yellow\":\r\n",
        "        Score=Score-4\r\n",
        "    if Infection_data[\"Zone\"]==\"Green\":\r\n",
        "        Score=Score-6\r\n",
        "    if Infection_data[\"Commute mode\"]==\"Private\":\r\n",
        "        Score=Score-5\r\n",
        "    if Infection_data[\"Vaccine Status\"]==\"Yes\":\r\n",
        "        Score=Score-9\r\n",
        "    if Infection_data[\"Dependent's disease\"]==\"No\":\r\n",
        "        Score=Score-3\r\n",
        "    if Infection_data[\"Office Structure\"]==\"Cabin\":\r\n",
        "        Score=Score-2\r\n",
        "    if Infection_data[\"Office Structure\"]==\"Cubical\":\r\n",
        "        Score=Score-1\r\n",
        "    if Infection_data[\"Dependent(Senior Citizen/Infant)\"]==\"No\":\r\n",
        "        Score=Score-2\r\n",
        "    if Infection_data[\"Previously infected\"]==\"Yes\":\r\n",
        "        Score=Score-2\r\n",
        "    if Infection_data[\"Gender\"]==\"No\":\r\n",
        "        Score=Score-1\r\n",
        "    if Infection_data[\"Shift\"]==\"No\":\r\n",
        "        Score=Score-2\r\n",
        "        \r\n",
        "    return Score"
      ],
      "execution_count": 73,
      "outputs": []
    },
    {
      "cell_type": "code",
      "metadata": {
        "id": "uZ-iKt8A1G3T"
      },
      "source": [
        "risk_score=[]\r\n",
        "for i in range(len(Infection_data)):\r\n",
        "  risk_score.append(risk(Infection_data.iloc[i],100))\r\n",
        "Infection_data[\"Risk_Score\"]=risk_score"
      ],
      "execution_count": 74,
      "outputs": []
    },
    {
      "cell_type": "markdown",
      "metadata": {
        "id": "EtV1Bql_sebT"
      },
      "source": [
        "# Feature Scaling"
      ]
    },
    {
      "cell_type": "code",
      "metadata": {
        "id": "EhPOvY5tFMty"
      },
      "source": [
        "risk_data=Infection_data.copy()\r\n",
        "#Scale Age and infection rate between 0-1\r\n",
        "from sklearn.preprocessing import MinMaxScaler\r\n",
        "sc= MinMaxScaler()\r\n",
        "risk_data[\"Age\"]= sc.fit_transform(risk_data[\"Age\"].values.reshape(-1,1))\r\n",
        "risk_data[\"Infection Rate\"]= sc.fit_transform(risk_data[\"Infection Rate\"].values.reshape(-1,1))"
      ],
      "execution_count": null,
      "outputs": []
    },
    {
      "cell_type": "markdown",
      "metadata": {
        "id": "foDZ2Oc0svD3"
      },
      "source": [
        "# Label Encoding"
      ]
    },
    {
      "cell_type": "code",
      "metadata": {
        "id": "6JsbAVBFvCMj"
      },
      "source": [
        "col=list(risk_data.select_dtypes(include=['object']).columns)\n",
        "\n",
        "from sklearn.preprocessing import LabelEncoder, OneHotEncoder\n",
        "labelencoder_X = LabelEncoder()\n",
        "for cols in col:\n",
        "    i=risk_data.columns.get_loc(cols)\n",
        "    risk_data.iloc[:,i] = labelencoder_X.fit_transform(risk_data.iloc[:,i])\n",
        "\n",
        "risk_data=pd.get_dummies(risk_data,columns=[\"Office Structure\"])\n",
        "risk_data=risk_data.drop(['Office Structure_2'],axis=1)\n"
      ],
      "execution_count": null,
      "outputs": []
    },
    {
      "cell_type": "markdown",
      "metadata": {
        "id": "R8xfCMZfkAJY"
      },
      "source": [
        "# Machine Lerning Model"
      ]
    },
    {
      "cell_type": "code",
      "metadata": {
        "id": "jEplK4TIlKwN"
      },
      "source": [
        "from sklearn.model_selection import train_test_split \r\n",
        "from xgboost import XGBRegressor\r\n",
        "from sklearn.metrics import mean_absolute_error"
      ],
      "execution_count": null,
      "outputs": []
    },
    {
      "cell_type": "code",
      "metadata": {
        "id": "xbIAnRS7kH9b"
      },
      "source": [
        "#Not important in training the model\r\n",
        "risk_data = risk_data.drop(['Employee id','Company\\'s Location','Residence', 'Current infected','Age-group','Zone'], axis=1)"
      ],
      "execution_count": null,
      "outputs": []
    },
    {
      "cell_type": "code",
      "metadata": {
        "id": "XQx7mhcjkXOW"
      },
      "source": [
        "#Split into features and label\r\n",
        "y = risk_data['Risk_Score']\r\n",
        "X = risk_data.drop(['Risk_Score'], axis=1)"
      ],
      "execution_count": null,
      "outputs": []
    },
    {
      "cell_type": "code",
      "metadata": {
        "id": "FVS-lsMTkhsx"
      },
      "source": [
        "#train_test split\r\n",
        "X_train, X_test, y_train, y_test = train_test_split(X, y, test_size=0.3, random_state=42) "
      ],
      "execution_count": null,
      "outputs": []
    },
    {
      "cell_type": "markdown",
      "metadata": {
        "id": "_ALkiWwenuo1"
      },
      "source": [
        "\r\n",
        "> XGBOOST regression"
      ]
    },
    {
      "cell_type": "code",
      "metadata": {
        "id": "rzGmSZpWQpLc"
      },
      "source": [
        "xg_model= XGBRegressor(n_estimators=100,silent = True)\r\n",
        "xg_fit_model=xg_model.fit(X_train, y_train)"
      ],
      "execution_count": null,
      "outputs": []
    },
    {
      "cell_type": "code",
      "metadata": {
        "id": "UuHKjzPxn0bE"
      },
      "source": [
        "#hyperparameter tunning\r\n",
        "from sklearn.model_selection import RandomizedSearchCV\r\n",
        "m_dep = [5,6,7,8]\r\n",
        "gammas = [0.01,0.001,0.001]\r\n",
        "min_c_wt = [1,5,10]\r\n",
        "l_rate = [0.05,0.1, 0.2, 0.3]\r\n",
        "n_est = [5,10,20,100]\r\n",
        "\r\n",
        "param_grid = {'n_estimators': n_est, 'gamma': gammas, 'max_depth': m_dep,\r\n",
        "              'min_child_weight': min_c_wt, 'learning_rate': l_rate}\r\n",
        "\r\n",
        "xgb_cv= RandomizedSearchCV(estimator = xg_model, n_iter=100, param_distributions =  param_grid, random_state=51, cv=2, n_jobs=-1, refit=True)\r\n",
        "xgb_fit_cv=xgb_cv.fit(X_train,y_train)\r\n"
      ],
      "execution_count": null,
      "outputs": []
    },
    {
      "cell_type": "code",
      "metadata": {
        "id": "FCPA3ZJ6BYFR"
      },
      "source": [
        "xgb_hyper_model=xgb_fit_cv.estimator\r\n",
        "xgb_fit_hyper=xgb_hyper_model.fit(X_train, y_train)"
      ],
      "execution_count": null,
      "outputs": []
    },
    {
      "cell_type": "code",
      "metadata": {
        "id": "sxIEkxNxoM3C"
      },
      "source": [
        "Predicted_risk= xgb_fit_hyper.predict(X_test)\r\n",
        "Predicted_risk=[round(x) for x in Predicted_risk]"
      ],
      "execution_count": null,
      "outputs": []
    },
    {
      "cell_type": "markdown",
      "metadata": {
        "id": "ZSEo2AT3NDDq"
      },
      "source": [
        "# Recommendation"
      ]
    },
    {
      "cell_type": "code",
      "metadata": {
        "id": "5PohDEsvGasq",
        "colab": {
          "base_uri": "https://localhost:8080/"
        },
        "outputId": "89a9be69-8d6b-4b94-fa27-bdc63e217661"
      },
      "source": [
        "Infection_data=Infection_data.reset_index(drop=True)\r\n",
        "\r\n",
        "import json\r\n",
        "\r\n",
        "employee_recommendations = []\r\n",
        "\r\n",
        "emp_id = Infection_data[\"Employee id\"].tolist()\r\n",
        "emp_score = Infection_data[\"Risk_Score\"].tolist()\r\n",
        "\r\n",
        "for i in range(len(Infection_data)) : \r\n",
        "  \r\n",
        "    recommendations = []\r\n",
        "\r\n",
        "\r\n",
        "    if(Infection_data.loc[i,\"Vaccine Status\"] == \"No\"):\r\n",
        "        rec = {\r\n",
        "        \"text\":\"Get the employee vaccinated\",\r\n",
        "        \"score\": 9\r\n",
        "        }\r\n",
        "        recommendations.append(rec)\r\n",
        "\r\n",
        "    if(Infection_data.loc[i,\"Travel history(in past 30 days)\"] == \"Yes\"):\r\n",
        "        rec = {\r\n",
        "        \"text\":\"Wait 30 days from international travel dates\",\r\n",
        "        \"score\": 8\r\n",
        "        }\r\n",
        "        recommendations.append(rec)\r\n",
        "\r\n",
        "    if(Infection_data.loc[i,\"Zone\"] == \"Red\"):\r\n",
        "        rec = {\r\n",
        "        \"text\":\"Provide accomodation to employee in a zone with low infection rate\",\r\n",
        "        \"score\": 6\r\n",
        "        }\r\n",
        "        recommendations.append(rec)\r\n",
        "\r\n",
        "    if(Infection_data.loc[i,\"Commute mode\"] == \"Public\"):\r\n",
        "        rec = {\r\n",
        "        \"text\":\"Provide the employee with a private vehicle\",\r\n",
        "        \"score\": 5\r\n",
        "        }\r\n",
        "        recommendations.append(rec)\r\n",
        "\r\n",
        "    if(Infection_data.loc[i,\"Shift\"] == \"General\"):\r\n",
        "        rec = {\r\n",
        "        \"text\":\"Call the employee in night shift\",\r\n",
        "        \"score\": 2\r\n",
        "        }\r\n",
        "        recommendations.append(rec)\r\n",
        "\r\n",
        "    if(Infection_data.loc[i,\"Dependent(Senior Citizen/Infant)\"] == \"Yes\"):\r\n",
        "        rec = {\r\n",
        "        \"text\":\"Provide private accomodation to employee\",\r\n",
        "        \"score\": 2\r\n",
        "        }\r\n",
        "        recommendations.append(rec)\r\n",
        "\r\n",
        "    if(Infection_data.loc[i,\"Office Structure\"] == \"Continous Desk\"):\r\n",
        "        rec = {\r\n",
        "        \"text\":\"Shift the employee into a cubical\",\r\n",
        "        \"score\": 1\r\n",
        "        }\r\n",
        "        recommendations.append(rec)\r\n",
        "\r\n",
        "    if(Infection_data.loc[i,\"Office Structure\"] == \"Cubical\"):\r\n",
        "        rec = {\r\n",
        "        \"text\":\"Shift the employee into a cabin\",\r\n",
        "        \"score\": 1\r\n",
        "        }\r\n",
        "        recommendations.append(rec)\r\n",
        "        \r\n",
        "    \r\n",
        "    recs_data = {\r\n",
        "        \"emp_id\": emp_id[i],\r\n",
        "        \"recommendations\": recommendations,\r\n",
        "        \"emp_score\": emp_score[i]\r\n",
        "    }\r\n",
        "    \r\n",
        "    employee_recommendations.append(recs_data)\r\n",
        "    \r\n",
        "recommendations_data= json.dumps(employee_recommendations)\r\n",
        "print(recommendations_data)\r\n"
      ],
      "execution_count": 75,
      "outputs": [
        {
          "output_type": "stream",
          "text": [
            "IOPub data rate exceeded.\n",
            "The notebook server will temporarily stop sending output\n",
            "to the client in order to avoid crashing it.\n",
            "To change this limit, set the config variable\n",
            "`--NotebookApp.iopub_data_rate_limit`.\n",
            "\n",
            "Current values:\n",
            "NotebookApp.iopub_data_rate_limit=1000000.0 (bytes/sec)\n",
            "NotebookApp.rate_limit_window=3.0 (secs)\n",
            "\n"
          ],
          "name": "stderr"
        }
      ]
    },
    {
      "cell_type": "markdown",
      "metadata": {
        "id": "HJQWNvl5OkKM"
      },
      "source": [
        "\r\n",
        "\r\n",
        "> **Final Analysis**\r\n",
        "\r\n"
      ]
    },
    {
      "cell_type": "markdown",
      "metadata": {
        "id": "512-kqpSqvsr"
      },
      "source": [
        "\r\n",
        "\r\n",
        "1. High Risk analysis\r\n",
        "\r\n"
      ]
    },
    {
      "cell_type": "code",
      "metadata": {
        "id": "ATCes9cJjwjm"
      },
      "source": [
        "age_gender_high=Infection_data.groupby(['Age-group', 'Gender']).Risk_Score.apply(lambda x: round(len(x[x > 75])/len(x) * 100 , 2))\r\n",
        "\r\n",
        "commute_shift_high=Infection_data.groupby(['Commute mode', 'Shift']).Risk_Score.apply(lambda x: round(len(x[x > 75])/len(x) * 100 , 2))\r\n",
        "\r\n",
        "office_commute_high=Infection_data.groupby([\"Office Structure\", 'Commute mode']).Risk_Score.apply(lambda x: round(len(x[x > 75])/len(x) * 100 , 2))\r\n",
        "\r\n",
        "age_disease_high=Infection_data.groupby(['Age-group', 'Current Disease']).Risk_Score.apply(lambda x: round(len(x[x > 75])/len(x) * 100 , 2))"
      ],
      "execution_count": null,
      "outputs": []
    },
    {
      "cell_type": "markdown",
      "metadata": {
        "id": "9Pg_BLViWLHv"
      },
      "source": [
        "2. Medium Risk analysis"
      ]
    },
    {
      "cell_type": "code",
      "metadata": {
        "id": "IgCDyAULQaUf"
      },
      "source": [
        "age_gender_medium=Infection_data.groupby(['Age-group', 'Gender']).Risk_Score.apply(lambda x: round(len(x[(x>45) & (x< 75)])/len(x) * 100 , 2))\r\n",
        "\r\n",
        "commute_shift_medium=Infection_data.groupby(['Commute mode', 'Shift']).Risk_Score.apply(lambda x: round(len(x[ (x>45) & (x<75)])/len(x) * 100 , 2))\r\n",
        "\r\n",
        "office_commute_medium=Infection_data.groupby([\"Office Structure\", 'Commute mode']).Risk_Score.apply(lambda x: round(len(x[(x < 75) & (x>45)])/len(x) * 100 , 2))\r\n",
        "\r\n",
        "age_disease_medium=Infection_data.groupby(['Age-group', 'Current Disease']).Risk_Score.apply(lambda x: round(len(x[(x < 75) & (x>45)])/len(x) * 100 , 2))"
      ],
      "execution_count": null,
      "outputs": []
    },
    {
      "cell_type": "markdown",
      "metadata": {
        "id": "QcHtgtsNWZJg"
      },
      "source": [
        "3. Low Risk analysis"
      ]
    },
    {
      "cell_type": "code",
      "metadata": {
        "id": "6DAmPmZJWcFo"
      },
      "source": [
        "age_gender_low=Infection_data.groupby(['Age-group', 'Gender']).Risk_Score.apply(lambda x: round(len(x[x <45])/len(x) * 100 , 2))\r\n",
        "\r\n",
        "commute_shift_low=Infection_data.groupby(['Commute mode', 'Shift']).Risk_Score.apply(lambda x: round(len(x[x<45])/len(x) * 100 , 2))\r\n",
        "\r\n",
        "office_commute_low=Infection_data.groupby([\"Office Structure\", 'Commute mode']).Risk_Score.apply(lambda x: round(len(x[x<45])/len(x) * 100 , 2))\r\n",
        "\r\n",
        "age_disease_low=Infection_data.groupby(['Age-group', 'Current Disease']).Risk_Score.apply(lambda x: round(len(x[x<45])/len(x) * 100 , 2))"
      ],
      "execution_count": null,
      "outputs": []
    }
  ]
}